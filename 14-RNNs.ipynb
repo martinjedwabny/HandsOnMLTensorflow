{
 "cells": [
  {
   "cell_type": "markdown",
   "metadata": {},
   "source": [
    "# Chapter 14: Recurrent Neural Networks\n",
    "\n",
    "#### Introduction\n",
    "\n",
    "* RNNs can work on sequences of arbitrary lengths, rather than on fixed-sized inputs like all the nets we have seen so far.\n",
    "\n",
    "* A limitation of Vanilla Neural Networks (and also Convolutional Networks) is that they accept a fixed-sized vector as input (e.g. an image) and produce a fixed-sized vector as output (e.g. probabilities of different classes). Recurrent nets are more exciting as they allow us to operate over sequences of vectors: Sequences in the input, the output, or in the most general case both.\n",
    "\n",
    "* They work specially well for NLP (translation, sentiment analysis, speech-to-text) and audio processing.\n",
    "\n",
    "* Possible problems are vanishing/exploding gradients. Some ways to deal with them are LSTM and GRU cells.\n",
    "\n",
    "* The main difference to what was seen so far (ANN, DNN, CNN) is that these NNs are not just feed-forward, but there are edges pointing backwards as well. Meaning, neurons at step $i-1$ and layer $l+a$ can connect to neurons at step $i$ and layer $l$.\n",
    "\n",
    "<img src=\"files/rnn_vis_rep.png\">"
   ]
  },
  {
   "cell_type": "markdown",
   "metadata": {},
   "source": [
    "#### Notes\n",
    "\n",
    "* A neurons' output at step $t$ with activation function $\\phi$ is computed as: \n",
    "\n",
    "    $y_{(t)} = \\phi([X_{(t)} \\ Y_{(t-1)}] \\ [W_X^T \\ W_Y^T]^T + b)$\n",
    "\n",
    "* Many researchers prefer to use the hyperbolic tangent (tanh) activation function in RNNs rather than the ReLU activation function."
   ]
  },
  {
   "cell_type": "markdown",
   "metadata": {},
   "source": [
    "## Static RNN mostly by-hand"
   ]
  },
  {
   "cell_type": "code",
   "execution_count": 6,
   "metadata": {
    "collapsed": false
   },
   "outputs": [
    {
     "name": "stdout",
     "output_type": "stream",
     "text": [
      "[[ 0.58439076 -0.38200927  0.99478775  0.8522754  -0.8493073 ]\n",
      " [ 0.9806192  -0.99999845  1.         -0.97370476 -0.9430899 ]\n",
      " [ 0.9992702  -1.          1.         -0.9999717  -0.9791651 ]\n",
      " [ 0.9804596  -1.         -0.00249966 -1.          0.94248176]]\n",
      "[[ 0.99747205 -1.          1.         -1.         -0.58356255]\n",
      " [-0.28376576  0.9767532   0.97486055 -0.9937281  -0.0887477 ]\n",
      " [ 0.9819391  -1.          1.         -1.          0.16745734]\n",
      " [ 0.7856287  -0.99998313  0.9999999  -0.99994963  0.25155604]]\n"
     ]
    }
   ],
   "source": [
    "import numpy as np\n",
    "import tensorflow as tf\n",
    "\n",
    "n_inputs = 3\n",
    "n_neurons = 5\n",
    "\n",
    "X0 = tf.placeholder(tf.float32, [None, n_inputs])\n",
    "X1 = tf.placeholder(tf.float32, [None, n_inputs])\n",
    "\n",
    "Wx = tf.Variable(tf.random_normal(shape=[n_inputs, n_neurons],dtype=tf.float32))\n",
    "Wy = tf.Variable(tf.random_normal(shape=[n_neurons,n_neurons],dtype=tf.float32))\n",
    "\n",
    "b = tf.Variable(tf.zeros([1, n_neurons], dtype=tf.float32))\n",
    "\n",
    "Y0 = tf.tanh(tf.matmul(X0, Wx) + b)\n",
    "Y1 = tf.tanh(tf.matmul(Y0, Wy) + tf.matmul(X1, Wx) + b)\n",
    "\n",
    "# Mini-batch: instance 0,instance 1,instance 2,instance 3 \n",
    "X0_batch = np.array([[0, 1, 2], [3, 4, 5], [6, 7, 8], [9, 0, 1]]) # t = 0 \n",
    "X1_batch = np.array([[9, 8, 7], [0, 0, 0], [6, 5, 4], [3, 2, 1]]) # t = 1\n",
    "\n",
    "with tf.Session() as sess: \n",
    "    tf.global_variables_initializer().run()\n",
    "    Y0_val, Y1_val = sess.run([Y0, Y1], feed_dict={X0: X0_batch, X1: X1_batch})\n",
    "\n",
    "print(Y0_val)\n",
    "print(Y1_val)"
   ]
  },
  {
   "cell_type": "markdown",
   "metadata": {},
   "source": [
    "## Static RNN using TF"
   ]
  },
  {
   "cell_type": "code",
   "execution_count": 7,
   "metadata": {
    "collapsed": false
   },
   "outputs": [
    {
     "name": "stdout",
     "output_type": "stream",
     "text": [
      "[[-0.06642583  0.46275124  0.4414053   0.8132189  -0.01677922]\n",
      " [ 0.91791415  0.97197455  0.96184903  0.9910163  -0.5952722 ]\n",
      " [ 0.996798    0.99890083  0.9980502   0.99960476 -0.87518233]\n",
      " [ 0.9738824   0.99407154  0.9951182  -0.59644467 -0.8149797 ]]\n",
      "[[ 0.9999394   0.9989903   0.9995799   0.9974815  -0.9773649 ]\n",
      " [ 0.85723865 -0.94109917 -0.2162181  -0.47883582 -0.14565074]\n",
      " [ 0.99988145  0.67858386  0.97892106  0.8785653  -0.91591734]\n",
      " [ 0.9941524  -0.04822242  0.00221991 -0.44518748 -0.6348825 ]]\n"
     ]
    }
   ],
   "source": [
    "tf.reset_default_graph()\n",
    "\n",
    "X0 = tf.placeholder(tf.float32, [None, n_inputs])\n",
    "X1 = tf.placeholder(tf.float32, [None, n_inputs])\n",
    "\n",
    "basic_cell = tf.contrib.rnn.BasicRNNCell(num_units=n_neurons)\n",
    "\n",
    "(Y0, Y1), states = tf.contrib.rnn.static_rnn(\n",
    "    basic_cell, \n",
    "    [X0, X1], \n",
    "    dtype=tf.float32)\n",
    "\n",
    "with tf.Session() as sess: \n",
    "    tf.global_variables_initializer().run()\n",
    "    Y0_val, Y1_val = sess.run([Y0, Y1], feed_dict={X0: X0_batch, X1: X1_batch})\n",
    "\n",
    "print(Y0_val)\n",
    "print(Y1_val)"
   ]
  },
  {
   "cell_type": "markdown",
   "metadata": {
    "collapsed": true
   },
   "source": [
    "## Static RNN using TF for variable time steps"
   ]
  },
  {
   "cell_type": "code",
   "execution_count": 13,
   "metadata": {
    "collapsed": false
   },
   "outputs": [
    {
     "name": "stdout",
     "output_type": "stream",
     "text": [
      "[[[-0.8840808  -0.91466177  0.96305513  0.51237    -0.52004665]\n",
      "  [-0.9998389  -0.99860585  0.9999214  -0.9733922  -1.        ]]\n",
      "\n",
      " [[-0.9978306  -0.9973324   0.9994389  -0.1154042  -0.99889827]\n",
      "  [ 0.02441876  0.53090584  0.7332013   0.29456207 -0.16947564]]\n",
      "\n",
      " [[-0.9999616  -0.9999199   0.99999154 -0.66279364 -0.99999815]\n",
      "  [-0.98844236 -0.8091579   0.9970866  -0.9458143  -0.99999255]]\n",
      "\n",
      " [[ 0.23881228  0.99957734 -0.99989897 -0.9998869  -0.999837  ]\n",
      "  [-0.5354684   0.46231174 -0.24938744 -0.8994993  -0.9868713 ]]]\n"
     ]
    }
   ],
   "source": [
    "n_steps = 2\n",
    "\n",
    "tf.reset_default_graph()\n",
    "\n",
    "X = tf.placeholder(tf.float32, [None, n_steps, n_inputs]) # [Batch, Step, Feature]\n",
    "X_seqs = tf.unstack(tf.transpose(X, perm=[1, 0, 2])) # Step x [Batch, Feature]\n",
    "\n",
    "basic_cell = tf.contrib.rnn.BasicRNNCell(num_units=n_neurons)\n",
    "\n",
    "output_seqs, states = tf.contrib.rnn.static_rnn(basic_cell, X_seqs, dtype=tf.float32)\n",
    "\n",
    "outputs = tf.transpose(tf.stack(output_seqs), perm=[1, 0, 2]) # [Batch, Step, Feature]\n",
    "\n",
    "X_batch = np.array([\n",
    "        #t = 0 t = 1\n",
    "        [[0, 1, 2], [9, 8, 7]], # instance 0 \n",
    "        [[3, 4, 5], [0, 0, 0]], # instance 1 \n",
    "        [[6, 7, 8], [6, 5, 4]], # instance 2 \n",
    "        [[9, 0, 1], [3, 2, 1]], # instance 3\n",
    "    ])\n",
    "\n",
    "with tf.Session() as sess: \n",
    "    tf.global_variables_initializer().run()\n",
    "    outputs_val = outputs.eval(feed_dict={X: X_batch})\n",
    "    \n",
    "print(outputs_val)"
   ]
  },
  {
   "cell_type": "markdown",
   "metadata": {},
   "source": [
    "## Dynamic RNN using TF with variable time steps per instance"
   ]
  },
  {
   "cell_type": "code",
   "execution_count": 21,
   "metadata": {
    "collapsed": false
   },
   "outputs": [
    {
     "name": "stdout",
     "output_type": "stream",
     "text": [
      "[[[ 0.14262824 -0.898237    0.26409262  0.9098908   0.7985182 ]\n",
      "  [ 0.9475035  -0.99948245 -0.8759814   1.         -0.9803118 ]]\n",
      "\n",
      " [[ 0.7974842  -0.9966856  -0.27770266  0.9999973   0.629874  ]\n",
      "  [ 0.          0.          0.          0.          0.        ]]\n",
      "\n",
      " [[ 0.9667288  -0.99989736 -0.6862774   1.          0.36955237]\n",
      "  [ 0.91824174 -0.98103124 -0.25563815  0.99999994 -0.94377196]]\n",
      "\n",
      " [[-0.2963333   0.9720922  -0.9998182   0.9999917  -0.9999707 ]\n",
      "  [ 0.7111934  -0.81178063 -0.83215785  0.9998305  -0.60253763]]]\n"
     ]
    }
   ],
   "source": [
    "n_steps = 2\n",
    "\n",
    "tf.reset_default_graph()\n",
    "\n",
    "seq_length = tf.placeholder(tf.int32, [None])\n",
    "X = tf.placeholder(tf.float32, [None, n_steps, n_inputs]) # [Batch, Step, Feature]\n",
    "\n",
    "basic_cell = tf.contrib.rnn.BasicRNNCell(num_units=n_neurons)\n",
    "\n",
    "outputs, states = tf.nn.dynamic_rnn(\n",
    "    basic_cell, \n",
    "    X, \n",
    "    dtype=tf.float32, \n",
    "    sequence_length=seq_length)\n",
    "\n",
    "X_batch = np.array([\n",
    "        #t = 0 t = 1\n",
    "        [[0, 1, 2], [9, 8, 7]], # instance 0 \n",
    "        [[3, 4, 5], [0, 0, 0]], # instance 1 # only one time step\n",
    "        [[6, 7, 8], [6, 5, 4]], # instance 2 \n",
    "        [[9, 0, 1], [3, 2, 1]], # instance 3\n",
    "    ])\n",
    "\n",
    "seq_length_batch = np.array([2, 1, 2, 2])\n",
    "\n",
    "with tf.Session() as sess: \n",
    "    tf.global_variables_initializer().run()\n",
    "    outputs_val, states_val = sess.run([outputs, states], feed_dict={X: X_batch, seq_length: seq_length_batch})\n",
    "    \n",
    "print(outputs_val)"
   ]
  },
  {
   "cell_type": "markdown",
   "metadata": {},
   "source": [
    "## MNIST using RNNs"
   ]
  },
  {
   "cell_type": "code",
   "execution_count": 23,
   "metadata": {
    "collapsed": false
   },
   "outputs": [
    {
     "name": "stdout",
     "output_type": "stream",
     "text": [
      "Extracting /tmp/data/train-images-idx3-ubyte.gz\n",
      "Extracting /tmp/data/train-labels-idx1-ubyte.gz\n",
      "Extracting /tmp/data/t10k-images-idx3-ubyte.gz\n",
      "Extracting /tmp/data/t10k-labels-idx1-ubyte.gz\n"
     ]
    }
   ],
   "source": [
    "from tensorflow.examples.tutorials.mnist import input_data\n",
    "\n",
    "mnist = input_data.read_data_sets(\"/tmp/data/\")\n",
    "X_test = mnist.test.images.reshape((-1, 28, 28))\n",
    "y_test = mnist.test.labels"
   ]
  },
  {
   "cell_type": "code",
   "execution_count": 24,
   "metadata": {
    "collapsed": false
   },
   "outputs": [
    {
     "name": "stdout",
     "output_type": "stream",
     "text": [
      "WARNING:tensorflow:From <ipython-input-24-f16074b529f4>:16: dense (from tensorflow.python.layers.core) is deprecated and will be removed in a future version.\n",
      "Instructions for updating:\n",
      "Use keras.layers.dense instead.\n"
     ]
    }
   ],
   "source": [
    "n_steps = 28\n",
    "n_inputs = 28\n",
    "n_neurons = 150\n",
    "n_outputs = 10\n",
    "\n",
    "learning_rate = 0.001\n",
    "\n",
    "tf.reset_default_graph()\n",
    "\n",
    "X = tf.placeholder(tf.float32, [None, n_steps, n_inputs])\n",
    "y = tf.placeholder(tf.int32, [None])\n",
    "\n",
    "basic_cell = tf.contrib.rnn.BasicRNNCell(num_units=n_neurons)\n",
    "outputs, states = tf.nn.dynamic_rnn(basic_cell, X, dtype=tf.float32)\n",
    "\n",
    "logits = tf.layers.dense(states, n_outputs)\n",
    "xentropy = tf.nn.sparse_softmax_cross_entropy_with_logits(labels=y, logits=logits)\n",
    "\n",
    "loss = tf.reduce_mean(xentropy)\n",
    "optimizer = tf.train.AdamOptimizer(learning_rate=learning_rate)\n",
    "training_op = optimizer.minimize(loss)\n",
    "correct = tf.nn.in_top_k(logits, y, 1)\n",
    "accuracy = tf.reduce_mean(tf.cast(correct, tf.float32))"
   ]
  },
  {
   "cell_type": "code",
   "execution_count": 26,
   "metadata": {
    "collapsed": false
   },
   "outputs": [
    {
     "name": "stdout",
     "output_type": "stream",
     "text": [
      "0 Train accuracy: 0.91333336 Test accuracy: 0.928\n",
      "1 Train accuracy: 0.9266667 Test accuracy: 0.9403\n",
      "2 Train accuracy: 0.94666666 Test accuracy: 0.9523\n",
      "3 Train accuracy: 0.96666664 Test accuracy: 0.9632\n",
      "4 Train accuracy: 0.94 Test accuracy: 0.9621\n",
      "5 Train accuracy: 0.96 Test accuracy: 0.9638\n",
      "6 Train accuracy: 0.9866667 Test accuracy: 0.9726\n",
      "7 Train accuracy: 0.97333336 Test accuracy: 0.9678\n",
      "8 Train accuracy: 0.97333336 Test accuracy: 0.9684\n",
      "9 Train accuracy: 0.9866667 Test accuracy: 0.9716\n"
     ]
    }
   ],
   "source": [
    "n_epochs = 10\n",
    "batch_size = 150\n",
    "\n",
    "n_batches = (mnist.train.num_examples // batch_size)\n",
    "\n",
    "with tf.Session() as sess:\n",
    "    tf.global_variables_initializer().run()\n",
    "    for epoch in range(n_epochs):\n",
    "        for iteration in range(n_batches):\n",
    "            X_batch, y_batch = mnist.train.next_batch(batch_size)\n",
    "            X_batch = X_batch.reshape((-1, n_steps, n_inputs))\n",
    "            sess.run(training_op, feed_dict={X: X_batch, y: y_batch})\n",
    "        acc_train = accuracy.eval(feed_dict={X: X_batch, y: y_batch})\n",
    "        acc_test = accuracy.eval(feed_dict={X: X_test, y: y_test})\n",
    "        print(epoch, \"Train accuracy:\", acc_train, \"Test accuracy:\", acc_test)"
   ]
  },
  {
   "cell_type": "markdown",
   "metadata": {},
   "source": [
    "## Stock prices using RNNs"
   ]
  },
  {
   "cell_type": "code",
   "execution_count": 60,
   "metadata": {
    "collapsed": false
   },
   "outputs": [],
   "source": [
    "import pandas as pd\n",
    "stock_dataset_pd = pd.read_csv('AMZN.txt', \n",
    "                            delimiter='\\t', \n",
    "                            names=['date', 'movement_percent', 'open_price', 'high_price', 'low_price', 'close_price', 'volume']\n",
    "                           )"
   ]
  },
  {
   "cell_type": "code",
   "execution_count": 69,
   "metadata": {
    "collapsed": false
   },
   "outputs": [
    {
     "name": "stdout",
     "output_type": "stream",
     "text": [
      "         date  movement_percent  open_price  high_price  low_price  \\\n",
      "0  2017-09-01         -0.002396    0.003671    0.003977  -0.003794   \n",
      "\n",
      "   close_price     volume  \n",
      "0    -2.349976  2532200.0  \n"
     ]
    }
   ],
   "source": [
    "print(stock_dataset_pd[:1])\n",
    "\n",
    "def pd_to_tf_dataset(dataset, features, target):\n",
    "    return tf.data.Dataset.from_tensor_slices(\n",
    "        (\n",
    "            tf.cast(dataset[features].values, tf.float32),\n",
    "            tf.cast(dataset[target].values, tf.int32)\n",
    "        )\n",
    "    )\n",
    "\n",
    "def pd_to_xy_dataset(dataset, features, target):\n",
    "    return dataset[features].values, dataset[target].values\n",
    "\n",
    "_, prices = pd_to_xy_dataset(stock_dataset_pd, [], 'high_price')"
   ]
  },
  {
   "cell_type": "code",
   "execution_count": 72,
   "metadata": {
    "collapsed": false
   },
   "outputs": [
    {
     "name": "stdout",
     "output_type": "stream",
     "text": [
      "[0.003977 0.013859 0.016089 ... 0.031983 0.026318 0.002945]\n"
     ]
    }
   ],
   "source": [
    "print(prices)"
   ]
  },
  {
   "cell_type": "code",
   "execution_count": 82,
   "metadata": {
    "collapsed": true
   },
   "outputs": [],
   "source": [
    "n_steps = 20\n",
    "n_inputs = 1\n",
    "n_neurons = 100\n",
    "n_outputs = 1\n",
    "\n",
    "learning_rate = 0.001\n",
    "\n",
    "tf.reset_default_graph()\n",
    "\n",
    "X = tf.placeholder(tf.float32, [None, n_steps, n_inputs]) # [batch_size, n_steps, n_inputs]\n",
    "y = tf.placeholder(tf.float32, [None, n_steps, n_outputs]) # [batch_size, n_steps, n_outputs]\n",
    "\n",
    "cell = tf.contrib.rnn.BasicRNNCell(num_units=n_neurons, activation=tf.nn.relu) # n_inputs -> n_neurons\n",
    "\n",
    "rnn_outputs, states = tf.nn.dynamic_rnn(cell, X, dtype=tf.float32) # [batch_size, n_steps, n_neurons]\n",
    "stacked_rnn_outputs = tf.reshape(rnn_outputs, [-1, n_neurons]) # [batch_size * n_steps, n_neurons]\n",
    "stacked_outputs = tf.layers.dense(stacked_rnn_outputs, n_outputs) # [batch_size * n_steps, n_outputs]\n",
    "outputs = tf.reshape(stacked_outputs, [-1, n_steps, n_outputs]) # [batch_size, n_steps, n_outputs]\n",
    "\n",
    "loss = tf.reduce_mean(tf.square(outputs - y))\n",
    "optimizer = tf.train.AdamOptimizer(learning_rate=learning_rate)\n",
    "training_op = optimizer.minimize(loss)"
   ]
  },
  {
   "cell_type": "code",
   "execution_count": 90,
   "metadata": {
    "collapsed": false
   },
   "outputs": [
    {
     "name": "stdout",
     "output_type": "stream",
     "text": [
      "0 \tMSE: 0.00026767355\n",
      "100 \tMSE: 0.00028233463\n",
      "200 \tMSE: 0.00021487677\n",
      "300 \tMSE: 0.00022764345\n",
      "400 \tMSE: 0.00022538588\n",
      "500 \tMSE: 0.0001132063\n",
      "600 \tMSE: 0.00013923978\n",
      "700 \tMSE: 0.0001441279\n",
      "800 \tMSE: 0.00013097611\n",
      "900 \tMSE: 0.00015173419\n",
      "1000 \tMSE: 0.00011534667\n",
      "1100 \tMSE: 0.0001385231\n",
      "1200 \tMSE: 9.836824e-05\n",
      "1300 \tMSE: 0.00010289323\n",
      "1400 \tMSE: 7.437316e-05\n"
     ]
    }
   ],
   "source": [
    "save_path_1 = \"./c14_1.ckpt\"\n",
    "\n",
    "n_iterations = 1500\n",
    "batch_size = 50\n",
    "\n",
    "with tf.Session() as sess:\n",
    "    tf.global_variables_initializer().run()\n",
    "    for iteration in range(n_iterations):\n",
    "        i_s = np.random.randint(\n",
    "            low=0, \n",
    "            high=len(prices)-n_steps*max(n_inputs,n_outputs)-2,\n",
    "            size=batch_size)\n",
    "        X_batch = np.reshape([prices[i:i+n_steps*n_inputs] for i in i_s], (batch_size, n_steps, n_inputs))\n",
    "        y_batch = np.reshape([prices[i+1:i+1+n_steps*n_outputs] for i in i_s], (batch_size, n_steps, n_outputs))\n",
    "        sess.run(training_op, feed_dict={X: X_batch, y: y_batch})\n",
    "        if iteration % 100 == 0:\n",
    "            mse = loss.eval(feed_dict={X: X_batch, y: y_batch})\n",
    "            print(iteration, \"\\tMSE:\", mse)\n",
    "    tf.train.Saver().save(sess, save_path_1)"
   ]
  },
  {
   "cell_type": "code",
   "execution_count": 85,
   "metadata": {
    "collapsed": true
   },
   "outputs": [],
   "source": [
    "import matplotlib\n",
    "import matplotlib.pyplot as plt\n",
    "\n",
    "def simple_plot(f, title=''):\n",
    "    x = np.arange(0, len(f), 1)\n",
    "    fig, ax = plt.subplots()\n",
    "    ax.plot(x, f)\n",
    "    ax.set(xlabel='x', ylabel='f(x)', title=title)\n",
    "    ax.grid()\n",
    "    plt.show()"
   ]
  },
  {
   "cell_type": "code",
   "execution_count": 86,
   "metadata": {
    "collapsed": false
   },
   "outputs": [
    {
     "data": {
      "image/png": "[encoded data removed]",
      "text/plain": [
       "<matplotlib.figure.Figure at 0x130bd2dd8>"
      ]
     },
     "metadata": {},
     "output_type": "display_data"
    }
   ],
   "source": [
    "simple_plot(prices, \"Actual prices\")"
   ]
  },
  {
   "cell_type": "code",
   "execution_count": 128,
   "metadata": {
    "collapsed": false
   },
   "outputs": [
    {
     "name": "stdout",
     "output_type": "stream",
     "text": [
      "INFO:tensorflow:Restoring parameters from ./c14_1.ckpt\n"
     ]
    }
   ],
   "source": [
    "past_prices = 20\n",
    "\n",
    "with tf.Session() as sess:\n",
    "    tf.train.Saver().restore(sess, save_path_1)\n",
    "    sequence = prices[:past_prices]\n",
    "    for iteration in range(len(prices)-past_prices):\n",
    "        X_batch = np.array(sequence[iteration:iteration+n_steps]).reshape(1, n_steps, 1)\n",
    "        y_pred = sess.run(outputs, feed_dict={X: X_batch})\n",
    "        sequence = np.append(sequence, y_pred[0, -1, 0])"
   ]
  },
  {
   "cell_type": "code",
   "execution_count": 129,
   "metadata": {
    "collapsed": false
   },
   "outputs": [
    {
     "data": {
      "image/png": "[encoded data removed]",
      "text/plain": [
       "<matplotlib.figure.Figure at 0x1328ab320>"
      ]
     },
     "metadata": {},
     "output_type": "display_data"
    }
   ],
   "source": [
    "simple_plot(sequence, \"Creative RNN\")"
   ]
  },
  {
   "cell_type": "markdown",
   "metadata": {},
   "source": [
    "## Deep RNNs"
   ]
  },
  {
   "cell_type": "code",
   "execution_count": 133,
   "metadata": {
    "collapsed": false
   },
   "outputs": [],
   "source": [
    "n_steps = 20\n",
    "n_inputs = 1\n",
    "n_neurons = 100\n",
    "n_layers = 3\n",
    "n_outputs = 1\n",
    "\n",
    "learning_rate = 0.001\n",
    "\n",
    "tf.reset_default_graph()\n",
    "\n",
    "keep_prob = tf.placeholder_with_default(1.0, shape=())\n",
    "X = tf.placeholder(tf.float32, [None, n_steps, n_inputs]) # [batch_size, n_steps, n_inputs]\n",
    "y = tf.placeholder(tf.float32, [None, n_steps, n_outputs]) # [batch_size, n_steps, n_outputs]\n",
    "\n",
    "cells = [tf.contrib.rnn.BasicRNNCell(num_units=n_neurons)\n",
    "         for layer in range(n_layers)]\n",
    "\n",
    "cells_drop = [tf.contrib.rnn.DropoutWrapper(cell, input_keep_prob=keep_prob)\n",
    "              for cell in cells]\n",
    "\n",
    "multi_layer_cell = tf.contrib.rnn.MultiRNNCell(cells_drop)\n",
    "\n",
    "rnn_outputs, states = tf.nn.dynamic_rnn(multi_layer_cell, X, dtype=tf.float32)\n",
    "\n",
    "stacked_rnn_outputs = tf.reshape(rnn_outputs, [-1, n_neurons]) # [batch_size * n_steps, n_neurons]\n",
    "stacked_outputs = tf.layers.dense(stacked_rnn_outputs, n_outputs) # [batch_size * n_steps, n_outputs]\n",
    "outputs = tf.reshape(stacked_outputs, [-1, n_steps, n_outputs]) # [batch_size, n_steps, n_outputs]\n",
    "\n",
    "loss = tf.reduce_mean(tf.square(outputs - y))\n",
    "optimizer = tf.train.AdamOptimizer(learning_rate=learning_rate)\n",
    "training_op = optimizer.minimize(loss)"
   ]
  },
  {
   "cell_type": "code",
   "execution_count": 141,
   "metadata": {
    "collapsed": false
   },
   "outputs": [
    {
     "name": "stdout",
     "output_type": "stream",
     "text": [
      "0 \tMSE: 0.005340926\n",
      "100 \tMSE: 0.00025477633\n",
      "200 \tMSE: 0.00025399379\n",
      "300 \tMSE: 0.00025459938\n",
      "400 \tMSE: 0.00025375193\n"
     ]
    }
   ],
   "source": [
    "save_path_2 = \"./c14_2.ckpt\"\n",
    "\n",
    "n_iterations = 500\n",
    "batch_size = 50\n",
    "\n",
    "with tf.Session() as sess:\n",
    "    tf.global_variables_initializer().run()\n",
    "    for iteration in range(n_iterations):\n",
    "        i_s = np.random.randint(\n",
    "            low=0, \n",
    "            high=len(prices)-n_steps*max(n_inputs,n_outputs)-2,\n",
    "            size=batch_size)\n",
    "        X_batch = np.reshape([prices[i:i+n_steps*n_inputs] for i in i_s], (batch_size, n_steps, n_inputs))\n",
    "        y_batch = np.reshape([prices[i+1:i+1+n_steps*n_outputs] for i in i_s], (batch_size, n_steps, n_outputs))\n",
    "        sess.run(training_op, feed_dict={X: X_batch, y: y_batch})\n",
    "        if iteration % 100 == 0:\n",
    "            X_batch = np.reshape([prices[i:i+n_steps*n_inputs] for i in range(1200)], (-1, n_steps, n_inputs))\n",
    "            y_batch = np.reshape([prices[i+1:i+1+n_steps*n_outputs] for i in range(1200)], (-1, n_steps, n_outputs))\n",
    "            mse = loss.eval(feed_dict={X: X_batch, y: y_batch})\n",
    "            print(iteration, \"\\tMSE:\", mse)\n",
    "    tf.train.Saver().save(sess, save_path_2)"
   ]
  },
  {
   "cell_type": "markdown",
   "metadata": {},
   "source": [
    "## LSTM Cells\n",
    "\n",
    "* The Long Short-Term Memory (LSTM) cell was proposed in 1997 by Sepp Hochreiter and Jürgen Schmidhuber.\n",
    "* The key idea is that the network can learn what to store in the long-term state, what to throw away, and what to read from it.\n",
    "\n",
    "<img src=\"files/lstm_diagram.png\">\n",
    "\n",
    "* The main layer is the one that outputs g(t).\n",
    "* The forget gate (controlled by f(t)) controls which parts of the long-term state should be erased.\n",
    "* The input gate (controlled by i(t)) controls which parts of g(t) should be added to the long-term state.\n",
    "* The output gate (controlled by o(t)) controls which parts of the long-term state should be read and output at this time step (both to h(t)) and y(t).\n",
    "\n",
    "<img src=\"files/lstm_equations.png\">"
   ]
  },
  {
   "cell_type": "markdown",
   "metadata": {},
   "source": [
    "* There is an LSTM variant with extra connections called peephole connections: the previous long-term state c(t–1) is added as an input to the controllers of the forget gate and the input gate, and the current long-term state c(t) is added as input to the controller of the output gate.\n",
    "\n",
    "\n",
    "* In TF:\n",
    "\n",
    "\n",
    "    lstm_cell = tf.contrib.rnn.LSTMCell(num_units=n_neurons, use_peepholes=True)\n"
   ]
  },
  {
   "cell_type": "markdown",
   "metadata": {},
   "source": [
    "## GRU Cell\n",
    "\n",
    "* The Gated Recurrent Unit (GRU) cell is a simplified version of the LSTM cell, and it seems to perform just as well.\n",
    "\n",
    "* In TF:\n",
    "\n",
    "\n",
    "    gru_cell = tf.contrib.rnn.GRUCell(num_units=n_neurons)\n",
    "\n",
    "<img src=\"files/gru_diagram.png\">"
   ]
  },
  {
   "cell_type": "markdown",
   "metadata": {},
   "source": [
    "## NLP using RNNs"
   ]
  },
  {
   "cell_type": "code",
   "execution_count": null,
   "metadata": {
    "collapsed": true
   },
   "outputs": [],
   "source": [
    "vocabulary_size = 50000\n",
    "embedding_size = 150\n",
    "\n",
    "init_embeds = tf.random_uniform([vocabulary_size, embedding_size], -1.0, 1.0)\n",
    "embeddings = tf.Variable(init_embeds)\n",
    "\n",
    "train_inputs = tf.placeholder(tf.int32, shape=[None])  # from ids...\n",
    "embed = tf.nn.embedding_lookup(embeddings, train_inputs)  # ...to embeddings"
   ]
  }
 ],
 "metadata": {
  "kernelspec": {
   "display_name": "Python 3",
   "language": "python",
   "name": "python3"
  },
  "language_info": {
   "codemirror_mode": {
    "name": "ipython",
    "version": 3
   },
   "file_extension": ".py",
   "mimetype": "text/x-python",
   "name": "python",
   "nbconvert_exporter": "python",
   "pygments_lexer": "ipython3",
   "version": "3.5.0"
  }
 },
 "nbformat": 4,
 "nbformat_minor": 2
}
