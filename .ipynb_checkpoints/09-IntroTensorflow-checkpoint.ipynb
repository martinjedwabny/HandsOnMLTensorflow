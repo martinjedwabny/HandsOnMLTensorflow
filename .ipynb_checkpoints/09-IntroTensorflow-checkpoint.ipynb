{
 "cells": [
  {
   "cell_type": "markdown",
   "metadata": {},
   "source": [
    "# Chapter 9: Tensorflow\n",
    "\n",
    "#### Description:\n",
    "\n",
    "* Tensorflow is an open source library for Machine Learning.\n",
    "* On a basic level, it allows the user to define computation graphs.\n",
    "* It evaluates the graph computation using optimized C++ code that is parallelizable across multiple CPUs and/or GPUs.\n",
    "\n",
    "#### Advantages:\n",
    "\n",
    "* It is highly cross-device compatible: Linux, Windows, MacOS, Android and iOS are supported.\n",
    "* It is well designed, scalable and highly optimized (including automatic differentiating 'autodiff' that calculates the gradient of the cost function one designs).\n",
    "* It also comes with a visualization tool called TensorBoard that allows you to browse through the computation graph, view learning curves, etc..."
   ]
  },
  {
   "cell_type": "markdown",
   "metadata": {},
   "source": [
    "## Basics\n",
    "\n",
    "### Initializing the graph"
   ]
  },
  {
   "cell_type": "code",
   "execution_count": 1,
   "metadata": {
    "collapsed": false
   },
   "outputs": [
    {
     "name": "stdout",
     "output_type": "stream",
     "text": [
      "WARNING:tensorflow:From /Library/Frameworks/Python.framework/Versions/3.5/lib/python3.5/site-packages/tensorflow/python/framework/op_def_library.py:263: colocate_with (from tensorflow.python.framework.ops) is deprecated and will be removed in a future version.\n",
      "Instructions for updating:\n",
      "Colocations handled automatically by placer.\n",
      "42\n",
      "42\n",
      "42\n",
      "42\n"
     ]
    }
   ],
   "source": [
    "import tensorflow as tf\n",
    "\n",
    "# Create variables\n",
    "x = tf.Variable(3, name=\"x\")\n",
    "y = tf.Variable(4, name=\"y\")\n",
    "f = x*x*y + y + 2\n",
    "\n",
    "# Option 1\n",
    "sess = tf.Session()\n",
    "sess.run(x.initializer)\n",
    "sess.run(y.initializer)\n",
    "result = sess.run(f)\n",
    "print(result)\n",
    "sess.close()\n",
    "\n",
    "# Option 2 (note: closing the session is unnecesary)\n",
    "with tf.Session() as sess:\n",
    "    x.initializer.run()\n",
    "    y.initializer.run()\n",
    "    result = f.eval()\n",
    "    print(result)\n",
    "    \n",
    "# Option 3 (note: global variables initializer)\n",
    "init = tf.global_variables_initializer()\n",
    "with tf.Session() as sess:\n",
    "    init.run()\n",
    "    result = f.eval()\n",
    "    print(result)\n",
    "\n",
    "# Option 4 (note: interactive session sets default session as the created object)\n",
    "sess = tf.InteractiveSession()\n",
    "init.run()\n",
    "result = f.eval()\n",
    "print(result)\n",
    "sess.close()"
   ]
  },
  {
   "cell_type": "markdown",
   "metadata": {},
   "source": [
    "#### Note:\n",
    "* It is important to set the default session.\n",
    "* All created nodes (variables, functions) are added automatically to the graph / session.\n",
    "* Sessions have construction, execution and closing steps."
   ]
  },
  {
   "cell_type": "markdown",
   "metadata": {},
   "source": [
    "### Managing multiple graphs"
   ]
  },
  {
   "cell_type": "code",
   "execution_count": 2,
   "metadata": {
    "collapsed": false
   },
   "outputs": [
    {
     "name": "stdout",
     "output_type": "stream",
     "text": [
      "True\n",
      "False\n"
     ]
    }
   ],
   "source": [
    "graph = tf.Graph()\n",
    "with graph.as_default():\n",
    "    x2 = tf.Variable(2)\n",
    "print(x2.graph is graph)\n",
    "print(x2.graph is tf.get_default_graph())"
   ]
  },
  {
   "cell_type": "markdown",
   "metadata": {},
   "source": [
    "### Dependencies\n",
    "\n",
    "* Tensorflow automatically detects node dependencies.\n",
    "* All node values are dropped between graph runs, except variable values, which are maintained by the session across graph runs.\n",
    "* If you want to evaluate y and z efficiently, without evaluating w and x twice as in the previous code, you must ask TensorFlow to evaluate both y and z in just one graph run."
   ]
  },
  {
   "cell_type": "code",
   "execution_count": 3,
   "metadata": {
    "collapsed": false
   },
   "outputs": [
    {
     "name": "stdout",
     "output_type": "stream",
     "text": [
      "10\n",
      "15\n",
      "10\n",
      "15\n"
     ]
    }
   ],
   "source": [
    "w = tf.constant(3) \n",
    "x=w+2 \n",
    "y=x+5 \n",
    "z=x*3\n",
    "\n",
    "# Running separate evaluations\n",
    "with tf.Session() as sess: \n",
    "    print(y.eval()) # 10 \n",
    "    print(z.eval()) # 15\n",
    "    \n",
    "# Reusing node evaluations\n",
    "with tf.Session() as sess:\n",
    "    y_val, z_val = sess.run([y, z]) \n",
    "    print(y_val) # 10 \n",
    "    print(z_val) # 15"
   ]
  },
  {
   "cell_type": "markdown",
   "metadata": {},
   "source": [
    "### Operations\n",
    "\n",
    "* Nodes in the graph are called ops.\n",
    "* Constants and variables take no input are called source ops.\n",
    "* The inputs and outputs are multidimensional arrays, called tensors."
   ]
  },
  {
   "cell_type": "markdown",
   "metadata": {},
   "source": [
    "## Normal equation with TF\n",
    "\n",
    "* Reminder: $\\hat \\theta = (X^T X)^{-1} X^T y$"
   ]
  },
  {
   "cell_type": "code",
   "execution_count": 4,
   "metadata": {
    "collapsed": false
   },
   "outputs": [
    {
     "name": "stderr",
     "output_type": "stream",
     "text": [
      "/Library/Frameworks/Python.framework/Versions/3.5/lib/python3.5/site-packages/sklearn/preprocessing/data.py:645: DataConversionWarning: Data with input dtype int64, float64 were all converted to float64 by StandardScaler.\n",
      "  return self.partial_fit(X, y)\n",
      "/Library/Frameworks/Python.framework/Versions/3.5/lib/python3.5/site-packages/sklearn/base.py:464: DataConversionWarning: Data with input dtype int64, float64 were all converted to float64 by StandardScaler.\n",
      "  return self.fit(X, **fit_params).transform(X)\n",
      "/Library/Frameworks/Python.framework/Versions/3.5/lib/python3.5/site-packages/ipykernel/__main__.py:24: FutureWarning: reshape is deprecated and will raise in a subsequent release. Please use .values.reshape(...) instead\n"
     ]
    }
   ],
   "source": [
    "import numpy as np\n",
    "import pandas as pd\n",
    "import os\n",
    "from sklearn.preprocessing import LabelEncoder\n",
    "from sklearn.model_selection import train_test_split\n",
    "from sklearn.impute import SimpleImputer\n",
    "\n",
    "# Import dataset\n",
    "housing = pd.read_csv(os.path.join('', \"housing.csv\"))\n",
    "m, n = housing.shape\n",
    "\n",
    "# Encode string values\n",
    "encoder = LabelEncoder()\n",
    "housing[\"ocean_proximity\"] = encoder.fit_transform(housing[\"ocean_proximity\"])\n",
    "\n",
    "# Separate X from y\n",
    "target = housing[\"median_house_value\"]\n",
    "housing.drop([\"median_house_value\"], axis=1, inplace=True)\n",
    "\n",
    "# Scale features\n",
    "from sklearn.preprocessing import StandardScaler\n",
    "scaler = StandardScaler()\n",
    "housing = scaler.fit_transform(housing)\n",
    "target = scaler.fit_transform(target.reshape(-1,1))\n",
    "\n",
    "# Add bias\n",
    "housing = np.c_[np.ones((m, 1)), housing]\n",
    "\n",
    "# Remove nulls\n",
    "imputer = SimpleImputer(strategy=\"median\")\n",
    "housing = imputer.fit_transform(housing)\n",
    "target = imputer.fit_transform(target)\n",
    "\n",
    "# Separate train and test set\n",
    "X_train, X_test, y_train, y_test = train_test_split(housing, target, test_size=0.25, random_state=42)"
   ]
  },
  {
   "cell_type": "code",
   "execution_count": 5,
   "metadata": {
    "collapsed": true
   },
   "outputs": [],
   "source": [
    "X = tf.constant(X_train, dtype=tf.float32, name=\"X\")\n",
    "y = tf.constant(y_train, dtype=tf.float32, name=\"y\")\n",
    "XT = tf.transpose(X)\n",
    "theta = tf.matmul(tf.matmul(tf.matrix_inverse(tf.matmul(XT, X)), XT), y)\n",
    "\n",
    "with tf.Session() as sess: \n",
    "    theta_value = theta.eval()\n",
    "\n",
    "pred = np.dot(X_test, theta_value)"
   ]
  },
  {
   "cell_type": "code",
   "execution_count": 6,
   "metadata": {
    "collapsed": false
   },
   "outputs": [
    {
     "name": "stdout",
     "output_type": "stream",
     "text": [
      "Accuracy 0.6266166130920349\n"
     ]
    }
   ],
   "source": [
    "from sklearn.metrics import r2_score\n",
    "print(\"Accuracy\", r2_score(y_test,pred))"
   ]
  },
  {
   "cell_type": "markdown",
   "metadata": {},
   "source": [
    "## Gradient Descent with TF"
   ]
  },
  {
   "cell_type": "code",
   "execution_count": 16,
   "metadata": {
    "collapsed": false
   },
   "outputs": [
    {
     "name": "stdout",
     "output_type": "stream",
     "text": [
      "MSE 0.3667774\n"
     ]
    }
   ],
   "source": [
    "def gd_tf(X_train, y_train, n_epochs=1000, learning_rate=0.01, DEBUG=False):\n",
    "    m, n = X_train.shape\n",
    "    X = tf.constant(X_train, dtype=tf.float32, name=\"X\")\n",
    "    y = tf.constant(y_train, dtype=tf.float32, name=\"y\")\n",
    "    theta = tf.Variable(tf.random_uniform([n, 1], -1.0, 1.0), name=\"theta\")\n",
    "\n",
    "    y_pred = tf.matmul(X, theta, name=\"predictions\")\n",
    "    error = y_pred - y\n",
    "    mse = tf.reduce_mean(tf.square(error), name=\"mse\")\n",
    "    gradients = 2/m * tf.matmul(tf.transpose(X), error)\n",
    "\n",
    "    training_op = tf.assign(theta, theta - learning_rate * gradients)\n",
    "    \n",
    "    init = tf.global_variables_initializer() \n",
    "    with tf.Session() as sess:\n",
    "        sess.run(init)\n",
    "        for epoch in range(n_epochs):\n",
    "            if epoch%100 == 0 and DEBUG:\n",
    "                print(\"Epoch\", epoch, \"MSE =\", mse.eval())\n",
    "            sess.run(training_op)\n",
    "        best_theta = theta.eval()\n",
    "        best_mse = mse.eval()\n",
    "    return best_theta, best_mse\n",
    "\n",
    "best_theta, best_mse = gd_tf(X_train, y_train, 2000)\n",
    "\n",
    "print(\"MSE\", best_mse)"
   ]
  },
  {
   "cell_type": "markdown",
   "metadata": {},
   "source": [
    "## Optmimizing Gradient Descent with TF\n",
    "\n",
    "#### Note\n",
    "\n",
    "* There are many useful optimizers: GradientDescent (classic), MomentumOptimizer (often works faster), and more."
   ]
  },
  {
   "cell_type": "code",
   "execution_count": 17,
   "metadata": {
    "collapsed": false
   },
   "outputs": [
    {
     "name": "stdout",
     "output_type": "stream",
     "text": [
      "MSE 0.3676985\n"
     ]
    }
   ],
   "source": [
    "from tensorflow.train import GradientDescentOptimizer\n",
    "\n",
    "def gd_tf_opt(X_train, y_train, n_epochs=1000, learning_rate=0.01, DEBUG=False):\n",
    "    m, n = X_train.shape\n",
    "    X = tf.constant(X_train, dtype=tf.float32, name=\"X\")\n",
    "    y = tf.constant(y_train, dtype=tf.float32, name=\"y\")\n",
    "    theta = tf.Variable(tf.random_uniform([n, 1], -1.0, 1.0), name=\"theta\")\n",
    "\n",
    "    y_pred = tf.matmul(X, theta, name=\"predictions\")\n",
    "    error = y_pred - y\n",
    "    mse = tf.reduce_mean(tf.square(error), name=\"mse\")\n",
    "    \n",
    "    # Optmimizer comes in\n",
    "    optimizer = GradientDescentOptimizer(learning_rate=learning_rate)\n",
    "    training_op = optimizer.minimize(mse)\n",
    "\n",
    "    init = tf.global_variables_initializer() \n",
    "    with tf.Session() as sess:\n",
    "        sess.run(init)\n",
    "        for epoch in range(n_epochs):\n",
    "            if epoch%100 == 0 and DEBUG:\n",
    "                print(\"Epoch\", epoch, \"MSE =\", mse.eval())\n",
    "            sess.run(training_op)\n",
    "        best_theta = theta.eval()\n",
    "        best_mse = mse.eval()\n",
    "    return best_theta, best_mse\n",
    "\n",
    "best_theta, best_mse = gd_tf_opt(X_train, y_train, 2000)\n",
    "\n",
    "print(\"MSE\", best_mse)"
   ]
  },
  {
   "cell_type": "markdown",
   "metadata": {},
   "source": [
    "## Implemeting mini-batches and Tensorboard visualization"
   ]
  },
  {
   "cell_type": "code",
   "execution_count": 72,
   "metadata": {
    "collapsed": false
   },
   "outputs": [
    {
     "name": "stdout",
     "output_type": "stream",
     "text": [
      "MSE 0.3664601\n"
     ]
    }
   ],
   "source": [
    "from datetime import datetime\n",
    "now = datetime.utcnow().strftime(\"%Y%m%d%H%M%S\")\n",
    "root_logdir = \"tf_logs\"\n",
    "logdir = \"{}/run-{}/\".format(root_logdir, now)\n",
    "\n",
    "def fetch_batch(X_train, y_train, epoch, batch_index, batch_size): \n",
    "    np.random.seed(epoch+batch_index)\n",
    "    idxs = np.random.randint(0, high=len(X_train)-1, size=batch_size)\n",
    "    return X_train[idxs], y_train[idxs]\n",
    "\n",
    "def gd_tf_batch(X_train, y_train, n_epochs=20, n_batches=100, batch_size=100, learning_rate=0.01, DEBUG=False):\n",
    "    m, n = X_train.shape\n",
    "    X = tf.placeholder(tf.float32, shape=(None,n), name=\"X\")\n",
    "    y = tf.placeholder(tf.float32, shape=(None,1), name=\"y\")\n",
    "    theta = tf.Variable(tf.random_uniform([n, 1], -1.0, 1.0), name=\"theta\")\n",
    "\n",
    "    y_pred = tf.matmul(X, theta, name=\"predictions\")\n",
    "    with tf.name_scope(\"loss\") as scope:\n",
    "        error = y_pred - y\n",
    "        mse = tf.reduce_mean(tf.square(error), name=\"mse\")\n",
    "    \n",
    "    optimizer = GradientDescentOptimizer(learning_rate=learning_rate)\n",
    "    training_op = optimizer.minimize(mse)\n",
    "    \n",
    "    mse_summary = tf.summary.scalar('MSE', mse)\n",
    "    file_writer = tf.summary.FileWriter(logdir, tf.get_default_graph())\n",
    "\n",
    "    init = tf.global_variables_initializer() \n",
    "    with tf.Session() as sess:\n",
    "        sess.run(init)\n",
    "        for epoch in range(n_epochs):\n",
    "            for batch in range(n_batches):\n",
    "                X_batch, y_batch = fetch_batch(X_train, y_train, epoch, batch, batch_size)\n",
    "                if batch%50 == 0 and DEBUG:\n",
    "                    summary_str = mse_summary.eval(feed_dict={X: X_batch, y: y_batch})\n",
    "                    file_writer.add_summary(summary_str, epoch * n_batches + batch)\n",
    "                sess.run(training_op, feed_dict={X:X_batch, y:y_batch})\n",
    "        best_theta = theta.eval()\n",
    "        best_mse = mse.eval(feed_dict={X:X_train, y:y_train})\n",
    "    \n",
    "    file_writer.close()\n",
    "    return best_theta, best_mse\n",
    "\n",
    "best_theta, best_mse = gd_tf_batch(X_train, y_train, DEBUG=True)\n",
    "\n",
    "print(\"MSE\", best_mse)"
   ]
  },
  {
   "cell_type": "markdown",
   "metadata": {},
   "source": [
    "## Modularity"
   ]
  },
  {
   "cell_type": "code",
   "execution_count": 58,
   "metadata": {
    "collapsed": false
   },
   "outputs": [
    {
     "name": "stdout",
     "output_type": "stream",
     "text": [
      "Output [[ 3.255662 ]\n",
      " [ 5.2415156]\n",
      " [ 8.18939  ]\n",
      " ...\n",
      " [ 4.474133 ]\n",
      " [ 4.6314554]\n",
      " [10.633579 ]]\n"
     ]
    }
   ],
   "source": [
    "tf.reset_default_graph() # reset the graph\n",
    "\n",
    "def relu(X):\n",
    "    with tf.variable_scope(\"relu\", reuse=True):\n",
    "        threshold = tf.get_variable(\"threshold\") # reuse existing variable\n",
    "        m, n = X.get_shape() # X is placeholder, shape: m x n\n",
    "        w_shape = (int(n), 1) # shape: m x 1\n",
    "        w = tf.Variable(tf.random_normal(w_shape), name=\"weights\") \n",
    "        b = tf.Variable(0.0, name=\"bias\")\n",
    "        z = tf.add(tf.matmul(X, w), b, name=\"z\")\n",
    "        return tf.maximum(z, threshold, name=\"relu\")\n",
    "\n",
    "def example_relu(X_data):\n",
    "    X = tf.constant(X_data, dtype=tf.float32, name=\"X\")\n",
    "    with tf.variable_scope(\"relu\"): # create the variable\n",
    "        threshold = tf.get_variable(\"threshold\", shape=(), initializer=tf.constant_initializer(0.0))\n",
    "    relus = [relu(X) for i in range(5)]\n",
    "    output = tf.add_n(relus, name=\"output\")\n",
    "    return output\n",
    "\n",
    "with tf.Session() as sess:\n",
    "    example = example_relu(X_train) # construct the graph\n",
    "    sess.run(tf.global_variables_initializer()) # initialize the variables\n",
    "    print(\"Output\", example.eval()) # run graph"
   ]
  },
  {
   "cell_type": "markdown",
   "metadata": {},
   "source": [
    "## Logistic regression"
   ]
  },
  {
   "cell_type": "code",
   "execution_count": 196,
   "metadata": {
    "collapsed": false,
    "scrolled": true
   },
   "outputs": [
    {
     "data": {
      "image/png": "[encoded data removed]",
      "text/plain": [
       "<matplotlib.figure.Figure at 0x131ee8e10>"
      ]
     },
     "metadata": {},
     "output_type": "display_data"
    }
   ],
   "source": [
    "from matplotlib import pyplot\n",
    "from pandas import DataFrame\n",
    "from sklearn.datasets import make_moons\n",
    "\n",
    "X_moon, y_moon = make_moons(n_samples=1000, noise=0.1)\n",
    "df = DataFrame(dict(x=X_moon[:,0], y=X_moon[:,1], label=y_moon))\n",
    "colors = {0:'red', 1:'blue'}\n",
    "fig, ax = pyplot.subplots()\n",
    "grouped = df.groupby('label')\n",
    "for key, group in grouped:\n",
    "    group.plot(ax=ax, kind='scatter', x='x', y='y', label=key, color=colors[key])\n",
    "pyplot.show()"
   ]
  },
  {
   "cell_type": "code",
   "execution_count": 237,
   "metadata": {
    "collapsed": false
   },
   "outputs": [],
   "source": [
    "def logistic_regression(X_train, \n",
    "                        y_train, \n",
    "                        n_epochs=20, \n",
    "                        n_batches=100, \n",
    "                        batch_size=100, \n",
    "                        learning_rate=0.01, \n",
    "                        DEBUG=False):\n",
    "    m, n = X_train.shape\n",
    "    _, k = y_train.shape\n",
    "    X = tf.placeholder(tf.float32, shape=(None,n), name=\"X\")\n",
    "    y = tf.placeholder(tf.float32, shape=(None,k), name=\"y\")\n",
    "    theta = tf.Variable(tf.random_uniform((n, k), -1.0, 1.0), name=\"theta\")\n",
    "    b = tf.Variable(tf.zeros((1, k)))\n",
    "\n",
    "    with tf.name_scope(\"pred\") as scope:\n",
    "        y_pred = tf.nn.softmax(tf.matmul(X,theta) + b) # Softmax\n",
    "    \n",
    "    with tf.name_scope(\"loss\") as scope:\n",
    "        cross_entropy = tf.reduce_mean(-tf.reduce_sum(y*tf.log(y_pred), reduction_indices=1), name=\"cross_entropy\")\n",
    "\n",
    "    optimizer = GradientDescentOptimizer(learning_rate=learning_rate)\n",
    "    training_op = optimizer.minimize(cross_entropy)\n",
    "\n",
    "    c_e_summary = tf.summary.scalar('cross_entropy', cross_entropy)\n",
    "    file_writer = tf.summary.FileWriter(logdir, tf.get_default_graph())\n",
    "\n",
    "    init = tf.global_variables_initializer() \n",
    "    with tf.Session() as sess:\n",
    "        sess.run(init)\n",
    "        for epoch in range(n_epochs):\n",
    "            for batch in range(n_batches):\n",
    "                X_batch, y_batch = fetch_batch(X_train, y_train, epoch, batch, batch_size)\n",
    "                if batch%50 == 0 and DEBUG:\n",
    "                    summary_str = c_e_summary.eval(feed_dict={X: X_train, y: y_train})\n",
    "                    file_writer.add_summary(summary_str, epoch * n_batches + batch)\n",
    "                sess.run(training_op, feed_dict={X: X_batch, y: y_batch})\n",
    "        y_ans_softmax, theta_ans, c_entropy_ans = sess.run([\n",
    "                y_pred,\n",
    "                theta,\n",
    "                cross_entropy], feed_dict={X: X_train, y: y_train})\n",
    "        y_ans = tf.argmax(input=y_ans_softmax, axis=1).eval()\n",
    "    file_writer.close()\n",
    "    return {\"predictions\": y_ans, \"theta\": theta_ans, \"cross_entropy\": c_entropy_ans}"
   ]
  },
  {
   "cell_type": "code",
   "execution_count": 238,
   "metadata": {
    "collapsed": false
   },
   "outputs": [],
   "source": [
    "from sklearn.preprocessing import OneHotEncoder\n",
    "y_moon_encoded = OneHotEncoder(categories='auto').fit_transform(y_moon.reshape(-1,1)).toarray()\n",
    "ans = logistic_regression(X_moon,y_moon_encoded)"
   ]
  },
  {
   "cell_type": "code",
   "execution_count": 239,
   "metadata": {
    "collapsed": false
   },
   "outputs": [
    {
     "name": "stdout",
     "output_type": "stream",
     "text": [
      "Labels [0 1 1 1 0 0 0 1 1 0]\n",
      "Predictions [0 1 1 1 0 0 0 1 1 0]\n",
      "Cross Entropy 0.29997435\n"
     ]
    }
   ],
   "source": [
    "print(\"Labels\", y_moon[:10])\n",
    "print(\"Predictions\", ans[\"predictions\"][:10])\n",
    "print(\"Cross Entropy\", ans[\"cross_entropy\"])"
   ]
  }
 ],
 "metadata": {
  "kernelspec": {
   "display_name": "Python 3",
   "language": "python",
   "name": "python3"
  },
  "language_info": {
   "codemirror_mode": {
    "name": "ipython",
    "version": 3
   },
   "file_extension": ".py",
   "mimetype": "text/x-python",
   "name": "python",
   "nbconvert_exporter": "python",
   "pygments_lexer": "ipython3",
   "version": "3.5.0"
  }
 },
 "nbformat": 4,
 "nbformat_minor": 2
}
