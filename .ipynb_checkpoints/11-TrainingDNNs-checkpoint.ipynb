{
 "cells": [
  {
   "cell_type": "markdown",
   "metadata": {},
   "source": [
    "## Chapter 11: Training Deep Neural Nets"
   ]
  },
  {
   "cell_type": "markdown",
   "metadata": {},
   "source": [
    "## Vanishing/Exploding Gradients Problems\n",
    "\n",
    "* Gradients often get smaller and smaller as the algorithm progresses down to the lower layers. \n",
    "* As a result, the Gradient Descent update leaves the lower layer connection weights virtually unchanged.\n",
    "* In some cases, the opposite can happen: the gradients can grow bigger and bigger, so many layers get insanely large weight updates and the algorithm diverges. This is the exploding gradients problem. It is mostly encountered in recurrent neural networks."
   ]
  },
  {
   "cell_type": "markdown",
   "metadata": {},
   "source": [
    "### Xavier and He Initialization\n",
    "\n",
    "* The variance of the outputs of each layer should be equal to the variance of its inputs.\n",
    "* The gradients should have equal variance before and after flowing through a layer in the reverse direction.\n",
    "\n",
    "Glorot and Bengio (2010) proposed the following random initialization distributions for the edges weights.\n",
    "\n",
    "$N(0,\\sigma)$ with $\\sigma = \\sqrt{\\frac{2}{n_{inputs} + n_{outputs}}}$ or $U(-r,r)$ with $r = \\sqrt{\\frac{6}{n_{inputs} + n_{outputs}}}$\n",
    "\n",
    "* This strategy works well with Logistic activations. For the hyperbolic tangent, a constant 4 is multiplied in $\\sigma$ and $r$, while ReLU activations work better with a $\\sqrt{2}$ constant.\n",
    "* The He initialization is quite similar but removes the $n_{outputs}$ term."
   ]
  },
  {
   "cell_type": "markdown",
   "metadata": {},
   "source": [
    "### ReLU variants\n",
    "\n",
    "* During training, some neurons die, they stop outputting anything other than 0.\n",
    "* When this happen, the neuron is unlikely to come back to life since the gradient of the ReLU function is 0 when its input is negative.\n",
    "\n",
    "To solve this problem, one can use a variant of the ReLU function, such as the leaky ReLU with $\\alpha \\in (0,1)$ (tipically 0.01 or 0.2):\n",
    "\n",
    "$LeakyReLU_\\alpha(z) = max(\\alpha z, z)$\n",
    "\n",
    "Another popular variant is the Exponential LU, which is slower to compute but is smooth in all the domain and often compensates with convergence speed:\n",
    "\n",
    "$ELU(z) = \\begin{cases} \\alpha (e^{z} - 1) & \\text {if } z < 0 \\\\ z & \\text{if } z \\geq 0 \\end{cases}$\n",
    "\n",
    "#### Note\n",
    "* In TF, to specify ELU activation: hidden1 = fully_connected(X, n_hidden1, activation_fn=tf.nn.elu)"
   ]
  },
  {
   "cell_type": "code",
   "execution_count": 1,
   "metadata": {
    "collapsed": false
   },
   "outputs": [
    {
     "data": {
      "image/png": "[encoded data removed]",
      "text/plain": [
       "<matplotlib.figure.Figure at 0x1060167f0>"
      ]
     },
     "metadata": {},
     "output_type": "display_data"
    }
   ],
   "source": [
    "import matplotlib\n",
    "import matplotlib.pyplot as plt\n",
    "import numpy as np\n",
    "alpha = 1\n",
    "z = np.arange(-2.0, 2.0, 0.01)\n",
    "f = (z < 0) * alpha * (np.exp(z) - 1) + (z >= 0) * z\n",
    "fig, ax = plt.subplots()\n",
    "ax.plot(z, f, 'b-')\n",
    "ax.set(xlabel='z', ylabel='f(z)', title='ELU')\n",
    "ax.grid()\n",
    "plt.show()"
   ]
  },
  {
   "cell_type": "markdown",
   "metadata": {},
   "source": [
    "## Batch Normalization\n",
    "\n",
    "* Vanishing/exploding gradients problems can come back during training.\n",
    "* Sergey Ioffe and Christian Szegedy (2015) proposed a technique called Batch Normalization (BN).\n",
    "* The technique consists of adding an operation in the model just before the activation function of each layer, simply zero-centering and normalizing the inputs, then scaling and shifting the result using two new parameters per layer.\n",
    "\n",
    "Concretely, before applying the activation function (if any) the following operation is performed in each layer:\n",
    "\n",
    "$\\hat x^{(i)} = S * (\\frac{x^{(i)} - x_{batch}}{\\sigma_{batch}}) + B$ (where $x_{batch},\\sigma_{batch}$ are the empirical mean/stdev of the current batch and $S,B$ are the scale and bias to be learned).\n",
    "\n",
    "#### Notes\n",
    "\n",
    "* It improves convergence so much that Sigmoid and Tanh functions are possible to use when paired with BN. \n",
    "* Apart from speed, it reduces overfitting and improves accuracy.\n",
    "* However, there is a runtime penalty: the neural network makes slower predictions due to the extra computations required at each layer."
   ]
  },
  {
   "cell_type": "code",
   "execution_count": 2,
   "metadata": {
    "collapsed": false
   },
   "outputs": [],
   "source": [
    "import tensorflow as tf\n",
    "\n",
    "(X_train, y_train), (X_test, y_test) = tf.keras.datasets.mnist.load_data()"
   ]
  },
  {
   "cell_type": "code",
   "execution_count": 67,
   "metadata": {
    "collapsed": false
   },
   "outputs": [],
   "source": [
    "from tensorflow.contrib.layers import fully_connected\n",
    "from tensorflow.contrib.layers import batch_norm\n",
    "\n",
    "tf.reset_default_graph()\n",
    "\n",
    "n_inputs = 28 * 28\n",
    "n_hidden1 = 300\n",
    "n_hidden2 = 100\n",
    "n_outputs = 10\n",
    "\n",
    "X = tf.placeholder(tf.float32, shape=(None, n_inputs), name=\"X\")\n",
    "y = tf.placeholder(tf.int64, shape=(None), name=\"y\")\n",
    "\n",
    "is_training = tf.placeholder(tf.bool, shape=(), name='is_training')\n",
    "\n",
    "bn_params = {\n",
    "    'is_training': is_training, # use mini-batch mean/std (training) or running averages (testing)\n",
    "    'decay': 0.99, # exponential decay to compute the running averages\n",
    "    'updates_collections': None, # update the running averages right before batch normalization in training\n",
    "    'scale': True, # if activation is other than None or ReLU,\n",
    "    'center': True, \n",
    "    'reuse': False,\n",
    "}\n",
    "\n",
    "with tf.contrib.framework.arg_scope([fully_connected], normalizer_fn=batch_norm, normalizer_params=bn_params):\n",
    "    hidden1 = fully_connected(X, n_hidden1, scope=\"hidden1\")\n",
    "    hidden2 = fully_connected(hidden1, n_hidden2, scope=\"hidden2\")\n",
    "    logits = fully_connected(hidden2, n_outputs, scope=\"outputs\", activation_fn=None)"
   ]
  },
  {
   "cell_type": "markdown",
   "metadata": {},
   "source": [
    "## Gradient Clipping\n",
    "* A popular technique to lessen the exploding gradients problem is to simply clip the gradients during backpropagation so that they never exceed some threshold."
   ]
  },
  {
   "cell_type": "code",
   "execution_count": 69,
   "metadata": {
    "collapsed": false
   },
   "outputs": [],
   "source": [
    "threshold = 1.0\n",
    "learning_rate = 0.2\n",
    "\n",
    "with tf.name_scope(\"train\"):\n",
    "    xentropy = tf.nn.sparse_softmax_cross_entropy_with_logits(labels=y, logits=logits)\n",
    "    loss = tf.reduce_mean(xentropy, name=\"loss\")\n",
    "    optimizer = tf.train.GradientDescentOptimizer(learning_rate)\n",
    "    grads_and_vars = optimizer.compute_gradients(loss)\n",
    "    capped_gvs = [(tf.clip_by_value(grad, -threshold, threshold), var) for grad, var in grads_and_vars]\n",
    "    update_ops = tf.get_collection(tf.GraphKeys.UPDATE_OPS)\n",
    "    with tf.control_dependencies(update_ops):\n",
    "        training_op = optimizer.minimize(loss)\n",
    "with tf.name_scope(\"eval\"):\n",
    "    correct = tf.nn.in_top_k(logits, y, 1)\n",
    "    accuracy = tf.reduce_mean(tf.cast(correct, tf.float32))"
   ]
  },
  {
   "cell_type": "markdown",
   "metadata": {},
   "source": [
    "## Full example"
   ]
  },
  {
   "cell_type": "code",
   "execution_count": 70,
   "metadata": {
    "collapsed": false
   },
   "outputs": [
    {
     "name": "stdout",
     "output_type": "stream",
     "text": [
      "Epoch 0 Accuracy 0.9572167\n",
      "Epoch 1 Accuracy 0.9741667\n",
      "Epoch 2 Accuracy 0.98291665\n",
      "Epoch 3 Accuracy 0.98908335\n",
      "Epoch 4 Accuracy 0.9920833\n",
      "Epoch 5 Accuracy 0.99516666\n",
      "Epoch 6 Accuracy 0.99663335\n",
      "Epoch 7 Accuracy 0.99801666\n",
      "Epoch 8 Accuracy 0.99883336\n",
      "Epoch 9 Accuracy 0.99945\n"
     ]
    }
   ],
   "source": [
    "from aux import create_mini_batches\n",
    "\n",
    "X_train = X_train.reshape(-1, n_inputs)\n",
    "y_train = y_train.reshape(-1)\n",
    "\n",
    "X_test = X_test.reshape(-1, n_inputs)\n",
    "y_test = y_test.reshape(-1)\n",
    "\n",
    "n_epochs = 10\n",
    "batch_size = 100\n",
    "n_batches = X_train.shape[0] // batch_size\n",
    "\n",
    "init = tf.global_variables_initializer()\n",
    "with tf.Session() as sess: \n",
    "    sess.run(init)\n",
    "    for epoch in range(n_epochs):\n",
    "        for X_batch, y_batch in create_mini_batches(X_train, y_train, n_batches, n_inputs, 1): \n",
    "            sess.run(training_op, feed_dict={is_training: True, X: X_batch, y: y_batch})\n",
    "        accuracy_score = accuracy.eval(feed_dict={is_training: True, X: X_train, y: y_train})\n",
    "        print(\"Epoch\", epoch, \"Accuracy\", accuracy_score)\n",
    "        tf.train.Saver(var_list=tf.global_variables()).save(sess, \"./c11_bn_final.ckpt\")"
   ]
  },
  {
   "cell_type": "code",
   "execution_count": 115,
   "metadata": {
    "collapsed": false
   },
   "outputs": [
    {
     "name": "stdout",
     "output_type": "stream",
     "text": [
      "INFO:tensorflow:Restoring parameters from ./c11_bn_final.ckpt\n",
      "Target     [7 2 1 0 4 1 4 9 5 9 0 6 9 0 1 5 9 7 3 4 9 6 6 5 4 0 7 4 0 1]\n",
      "Prediction [7 2 1 0 4 1 4 9 5 9 0 6 9 0 1 5 9 7 3 4 9 6 6 5 4 0 7 4 0 1]\n",
      "Accuracy 0.9791\n"
     ]
    }
   ],
   "source": [
    "with tf.Session() as sess:\n",
    "    tf.train.Saver().restore(sess, \"./c11_bn_final.ckpt\")\n",
    "    y_pred = sess.run([tf.math.argmax(logits, axis=1)], feed_dict={X: X_test, is_training: True})\n",
    "    print(\"Target    \", y_test[:30])\n",
    "    print(\"Prediction\", y_pred[0][:30])\n",
    "    print (\"Accuracy\", np.sum(y_pred == y_test) / len(y_pred[0]))"
   ]
  },
  {
   "cell_type": "markdown",
   "metadata": {},
   "source": [
    "## Transfer learning"
   ]
  },
  {
   "cell_type": "code",
   "execution_count": 116,
   "metadata": {
    "collapsed": true
   },
   "outputs": [],
   "source": [
    "def create_trasnfer_nn(original_w, original_b):\n",
    "    X = tf.placeholder(tf.float32, shape=(None, n_inputs), name=\"X\") \n",
    "    hidden1 = fully_connected(X, n_hidden1, scope=\"hidden1\")\n",
    "    hidden2 = fully_connected(X, n_hidden2, scope=\"hidden2\")\n",
    "    logits = fully_connected(X, n_outputs, scope=\"logits\")\n",
    "\n",
    "    # Get a handle on the variables created by fully_connected()\n",
    "    with tf.variable_scope(\"\", default_name=\"\", reuse=True): # root scope\n",
    "        hidden1_weights = tf.get_variable(\"hidden1/weights\")\n",
    "        hidden1_biases = tf.get_variable(\"hidden1/biases\")\n",
    "        \n",
    "    # Create nodes to assign arbitrary values to the weights and biases\n",
    "    original_weights = tf.placeholder(tf.float32, shape=(n_inputs, n_hidden1))\n",
    "    original_biases = tf.placeholder(tf.float32, shape=(n_hidden1))\n",
    "    assign_hidden1_weights = tf.assign(hidden1_weights, original_weights)\n",
    "    assign_hidden1_biases = tf.assign(hidden1_biases, original_biases)\n",
    "    \n",
    "    init = tf.global_variables_initializer()\n",
    "    with tf.Session() as sess: \n",
    "        sess.run(init)\n",
    "        sess.run(assign_hidden1_weights, feed_dict={original_weights: original_w}) \n",
    "        sess.run(assign_hidden1_biases, feed_dict={original_biases: original_b})\n",
    "#         train()"
   ]
  },
  {
   "cell_type": "markdown",
   "metadata": {},
   "source": [
    "## Optimizers"
   ]
  },
  {
   "cell_type": "markdown",
   "metadata": {},
   "source": [
    "### Momentum optimizer\n",
    "\n",
    "* Instead of following the gradient through a constant learning rate, use the gradient as acceleration.\n",
    "* Algorithm: ($\\alpha > 0$ learning rate, $\\beta \\in [0,1]$ momentum friction, $m_{init}=0$)\n",
    "    \n",
    "    $m \\leftarrow \\beta m + \\alpha \\nabla_\\theta cost(\\theta)$\n",
    "    \n",
    "    $\\theta^{new} \\leftarrow \\theta - m$\n",
    "    \n",
    "* In TF: \n",
    "\n",
    "    optimizer = tf.train.MomentumOptimizer(learning_rate=learning_rate,momentum=0.9)"
   ]
  },
  {
   "cell_type": "markdown",
   "metadata": {},
   "source": [
    "### Nesterov Accelerated Gradient\n",
    "\n",
    "* Almost always faster than the Momentum optimizer as-is.\n",
    "* Algorithm:\n",
    "    \n",
    "    $m \\leftarrow \\beta m + \\alpha \\nabla_\\theta cost(\\theta + \\beta m)$\n",
    "    \n",
    "    $\\theta^{new} \\leftarrow \\theta - m$\n",
    "    \n",
    "* In TF:\n",
    "\n",
    "    optimizer = tf.train.MomentumOptimizer(learning_rate=learning_rate,momentum=0.9, use_nesterov=True)"
   ]
  },
  {
   "cell_type": "markdown",
   "metadata": {},
   "source": [
    "### Adam\n",
    "\n",
    "* Uses intuitions of Momentum and RMSProp.\n",
    "* It is almost always the best option so far in the literature.\n",
    "* Algorithm:\n",
    "    \n",
    "    $m \\leftarrow \\beta_1 m + (1-\\beta_1) \\nabla_\\theta cost(\\theta + \\beta m)$\n",
    "    \n",
    "    $s \\leftarrow \\beta_2 s + (1-\\beta_2) \\nabla_\\theta cost(\\theta + \\beta m)^2$ (element wise)\n",
    "    \n",
    "    $m \\leftarrow \\frac{m}{1-\\beta_1^T}$ (kickstarting fast)\n",
    "    \n",
    "    $s \\leftarrow \\frac{s}{1-\\beta_2^T}$ (kickstarting fast)\n",
    "    \n",
    "    $\\theta^{new} \\leftarrow \\theta - \\alpha m / \\sqrt{s+\\epsilon}$ (element wise)\n",
    "    \n",
    "    \n",
    "* Hyperparameters: $\\alpha,\\beta_1,\\beta_2, \\epsilon$ control learning rate, momentum decay, scaling decay and smoothing term. \n",
    "\n",
    "\n",
    "* Tipically TFs standard values work well ($\\beta_1=0.9,\\beta_2=0.999,\\epsilon=10^{-8}$).\n",
    "\n",
    "\n",
    "* In TF:\n",
    "\n",
    "    optimizer = tf.train.AdamOptimizer(learning_rate=learning_rate)\n"
   ]
  },
  {
   "cell_type": "markdown",
   "metadata": {},
   "source": [
    "## Regularization"
   ]
  },
  {
   "cell_type": "markdown",
   "metadata": {},
   "source": [
    "### Early stopping\n",
    "\n",
    "* As the name suggests, just save multiple partially trained instances of the parameters.\n",
    "* Then select the one that generalizes the best."
   ]
  },
  {
   "cell_type": "markdown",
   "metadata": {},
   "source": [
    "### $l_1$ and $l_2$"
   ]
  },
  {
   "cell_type": "code",
   "execution_count": 118,
   "metadata": {
    "collapsed": true
   },
   "outputs": [],
   "source": [
    "def create_reg_layers(X, y, n_hidden1, n_hidden2, n_outputs, scale=0.01):\n",
    "    with arg_scope([fully_connected],weights_regularizer=tf.contrib.layers.l1_regularizer(scale=scale)):\n",
    "        # Create layers\n",
    "        hidden1 = fully_connected(X, n_hidden1, scope=\"hidden1\")\n",
    "        hidden2 = fully_connected(hidden1, n_hidden2, scope=\"hidden2\")\n",
    "        logits = fully_connected(hidden2, n_outputs, activation_fn=None,scope=\"out\")\n",
    "        # Define loss\n",
    "        xentropy = tf.nn.sparse_softmax_cross_entropy_with_logits(labels=y, logits=logits)\n",
    "        base_loss = tf.reduce_mean(xentropy, name=\"avg_xentropy\")\n",
    "        reg_losses = tf.get_collection(tf.GraphKeys.REGULARIZATION_LOSSES)\n",
    "        loss = tf.add_n([base_loss] + reg_losses, name=\"loss\")"
   ]
  },
  {
   "cell_type": "markdown",
   "metadata": {},
   "source": [
    "### Dropout\n",
    "\n",
    "* At every training step, every neuron (including input neurons but excluding output neurons) has a probability p of being temporarily “dropped out”.\n",
    "* It will be entirely ignored during this training step, but it may be active during the next step."
   ]
  },
  {
   "cell_type": "code",
   "execution_count": 119,
   "metadata": {
    "collapsed": true
   },
   "outputs": [],
   "source": [
    "from tensorflow.contrib.layers import dropout \n",
    "\n",
    "def create_drop_layers(X, y, n_hidden1, n_hidden2, n_outputs, p=0.5):\n",
    "    with arg_scope([fully_connected],weights_regularizer=tf.contrib.layers.l1_regularizer(scale=scale)):\n",
    "        is_training = tf.placeholder(tf.bool, shape=(), name='is_training')\n",
    "        # Create layers\n",
    "        X_drop = dropout(X, p, is_training=is_training)\n",
    "        hidden1 = fully_connected(X_drop, n_hidden1, scope=\"hidden1\")\n",
    "        hidden1_drop = dropout(hidden1, keep_prob, is_training=is_training)\n",
    "        hidden2 = fully_connected(hidden1_drop, n_hidden2, scope=\"hidden2\")\n",
    "        hidden2_drop = dropout(hidden2, keep_prob, is_training=is_training)\n",
    "        logits = fully_connected(hidden2_drop, n_outputs, activation_fn=None,scope=\"outputs\")\n",
    "        # Define loss\n",
    "        xentropy = tf.nn.sparse_softmax_cross_entropy_with_logits(labels=y, logits=logits)\n",
    "        base_loss = tf.reduce_mean(xentropy, name=\"avg_xentropy\")\n",
    "        reg_losses = tf.get_collection(tf.GraphKeys.REGULARIZATION_LOSSES)\n",
    "        loss = tf.add_n([base_loss] + reg_losses, name=\"loss\")"
   ]
  },
  {
   "cell_type": "markdown",
   "metadata": {},
   "source": [
    "### Data Augmentation\n",
    "\n",
    "* Generating new training instances from existing ones, artificially boosting the size of the training set.\n",
    "* For example, if your model is meant to classify pictures of mushrooms, you can slightly shift, rotate, and resize every picture in the training set by various amounts and add the resulting pictures to the training set."
   ]
  },
  {
   "cell_type": "markdown",
   "metadata": {},
   "source": [
    "## Default DNN configuration\n",
    "\n",
    "* Initialization: He\n",
    "* Activation function: ELU\n",
    "* Normalization: Batch normalization\n",
    "* Regularization: Dropout\n",
    "* Optimizer: Adam\n",
    "* Learning rate schedule: None"
   ]
  },
  {
   "cell_type": "markdown",
   "metadata": {},
   "source": [
    "#### Notes\n",
    "* If you can’t find a good learning rate (convergence was too slow, so you increased the training rate, and now convergence is fast but the network’s accuracy is sub‐ optimal), then you can try adding a learning schedule such as exponential decay.\n",
    "* If your training set is a bit too small, you can implement data augmentation.\n",
    "* If you need a sparse model, you can add some l1 regularization to the mix (and optionally zero out the tiny weights after training). If you need an even sparser model, you can try using FTRL instead of Adam optimization, along with l1 reg‐ ularization.\n",
    "* If you need a lightning-fast model at runtime, you may want to drop Batch Nor‐ malization, and possibly replace the ELU activation function with the leaky ReLU. Having a sparse model will also help.\n"
   ]
  },
  {
   "cell_type": "code",
   "execution_count": null,
   "metadata": {
    "collapsed": true
   },
   "outputs": [],
   "source": []
  }
 ],
 "metadata": {
  "kernelspec": {
   "display_name": "Python 3",
   "language": "python",
   "name": "python3"
  },
  "language_info": {
   "codemirror_mode": {
    "name": "ipython",
    "version": 3
   },
   "file_extension": ".py",
   "mimetype": "text/x-python",
   "name": "python",
   "nbconvert_exporter": "python",
   "pygments_lexer": "ipython3",
   "version": "3.5.0"
  }
 },
 "nbformat": 4,
 "nbformat_minor": 2
}
