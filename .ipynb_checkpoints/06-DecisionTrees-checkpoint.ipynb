{
 "cells": [
  {
   "cell_type": "markdown",
   "metadata": {},
   "source": [
    "# Chapter 6: Decision Trees"
   ]
  },
  {
   "cell_type": "markdown",
   "metadata": {
    "collapsed": true
   },
   "source": [
    "## Decision tree example"
   ]
  },
  {
   "cell_type": "code",
   "execution_count": 2,
   "metadata": {
    "collapsed": false
   },
   "outputs": [
    {
     "data": {
      "text/plain": [
       "DecisionTreeClassifier(class_weight=None, criterion='gini', max_depth=2,\n",
       "            max_features=None, max_leaf_nodes=None,\n",
       "            min_impurity_decrease=0.0, min_impurity_split=None,\n",
       "            min_samples_leaf=1, min_samples_split=2,\n",
       "            min_weight_fraction_leaf=0.0, presort=False, random_state=None,\n",
       "            splitter='best')"
      ]
     },
     "execution_count": 2,
     "metadata": {},
     "output_type": "execute_result"
    }
   ],
   "source": [
    "from sklearn.datasets import load_iris\n",
    "from sklearn.tree import DecisionTreeClassifier\n",
    "iris = load_iris()\n",
    "X = iris.data[:, 2:] # petal length and width y = iris.target\n",
    "y = iris.target\n",
    "tree_clf = DecisionTreeClassifier(max_depth=2)\n",
    "tree_clf.fit(X, y)"
   ]
  },
  {
   "cell_type": "code",
   "execution_count": 18,
   "metadata": {
    "collapsed": false
   },
   "outputs": [
    {
     "data": {
      "image/svg+xml": [
       "<svg height=\"300pt\" viewBox=\"0.00 0.00 358.91 300.00\" width=\"359pt\" xmlns=\"http://www.w3.org/2000/svg\" xmlns:xlink=\"http://www.w3.org/1999/xlink\">\n",
       "<g class=\"graph\" id=\"graph0\" transform=\"scale(1 1) rotate(0) translate(4 296)\">\n",
       "<title>Tree</title>\n",
       "<polygon fill=\"#ffffff\" points=\"-4,4 -4,-296 354.9063,-296 354.9063,4 -4,4\" stroke=\"transparent\"/>\n",
       "<!-- 0 -->\n",
       "<g class=\"node\" id=\"node1\">\n",
       "<title>0</title>\n",
       "<path d=\"M207.353,-292C207.353,-292 72.5532,-292 72.5532,-292 66.5532,-292 60.5532,-286 60.5532,-280 60.5532,-280 60.5532,-226 60.5532,-226 60.5532,-220 66.5532,-214 72.5532,-214 72.5532,-214 207.353,-214 207.353,-214 213.353,-214 219.353,-220 219.353,-226 219.353,-226 219.353,-280 219.353,-280 219.353,-286 213.353,-292 207.353,-292\" fill=\"transparent\" stroke=\"#000000\"/>\n",
       "<text fill=\"#000000\" font-family=\"Helvetica,sans-Serif\" font-size=\"14.00\" text-anchor=\"middle\" x=\"139.9531\" y=\"-276.8\">petal width (cm) &lt;= 0.8</text>\n",
       "<text fill=\"#000000\" font-family=\"Helvetica,sans-Serif\" font-size=\"14.00\" text-anchor=\"middle\" x=\"139.9531\" y=\"-262.8\">gini = 0.667</text>\n",
       "<text fill=\"#000000\" font-family=\"Helvetica,sans-Serif\" font-size=\"14.00\" text-anchor=\"middle\" x=\"139.9531\" y=\"-248.8\">samples = 150</text>\n",
       "<text fill=\"#000000\" font-family=\"Helvetica,sans-Serif\" font-size=\"14.00\" text-anchor=\"middle\" x=\"139.9531\" y=\"-234.8\">value = [50, 50, 50]</text>\n",
       "<text fill=\"#000000\" font-family=\"Helvetica,sans-Serif\" font-size=\"14.00\" text-anchor=\"middle\" x=\"139.9531\" y=\"-220.8\">class = setosa</text>\n",
       "</g>\n",
       "<!-- 1 -->\n",
       "<g class=\"node\" id=\"node2\">\n",
       "<title>1</title>\n",
       "<path d=\"M107.8594,-171C107.8594,-171 12.0468,-171 12.0468,-171 6.0468,-171 .0468,-165 .0468,-159 .0468,-159 .0468,-119 .0468,-119 .0468,-113 6.0468,-107 12.0468,-107 12.0468,-107 107.8594,-107 107.8594,-107 113.8594,-107 119.8594,-113 119.8594,-119 119.8594,-119 119.8594,-159 119.8594,-159 119.8594,-165 113.8594,-171 107.8594,-171\" fill=\"#e58139\" stroke=\"#000000\"/>\n",
       "<text fill=\"#000000\" font-family=\"Helvetica,sans-Serif\" font-size=\"14.00\" text-anchor=\"middle\" x=\"59.9531\" y=\"-155.8\">gini = 0.0</text>\n",
       "<text fill=\"#000000\" font-family=\"Helvetica,sans-Serif\" font-size=\"14.00\" text-anchor=\"middle\" x=\"59.9531\" y=\"-141.8\">samples = 50</text>\n",
       "<text fill=\"#000000\" font-family=\"Helvetica,sans-Serif\" font-size=\"14.00\" text-anchor=\"middle\" x=\"59.9531\" y=\"-127.8\">value = [50, 0, 0]</text>\n",
       "<text fill=\"#000000\" font-family=\"Helvetica,sans-Serif\" font-size=\"14.00\" text-anchor=\"middle\" x=\"59.9531\" y=\"-113.8\">class = setosa</text>\n",
       "</g>\n",
       "<!-- 0&#45;&gt;1 -->\n",
       "<g class=\"edge\" id=\"edge1\">\n",
       "<title>0-&gt;1</title>\n",
       "<path d=\"M112.4217,-213.7677C104.642,-202.6817 96.1632,-190.5994 88.3346,-179.4436\" fill=\"none\" stroke=\"#000000\"/>\n",
       "<polygon fill=\"#000000\" points=\"91.1064,-177.3003 82.4971,-171.1252 85.3765,-181.3213 91.1064,-177.3003\" stroke=\"#000000\"/>\n",
       "<text fill=\"#000000\" font-family=\"Helvetica,sans-Serif\" font-size=\"14.00\" text-anchor=\"middle\" x=\"78.1815\" y=\"-191.5499\">True</text>\n",
       "</g>\n",
       "<!-- 2 -->\n",
       "<g class=\"node\" id=\"node3\">\n",
       "<title>2</title>\n",
       "<path d=\"M292.1388,-178C292.1388,-178 149.7675,-178 149.7675,-178 143.7675,-178 137.7675,-172 137.7675,-166 137.7675,-166 137.7675,-112 137.7675,-112 137.7675,-106 143.7675,-100 149.7675,-100 149.7675,-100 292.1388,-100 292.1388,-100 298.1388,-100 304.1388,-106 304.1388,-112 304.1388,-112 304.1388,-166 304.1388,-166 304.1388,-172 298.1388,-178 292.1388,-178\" fill=\"transparent\" stroke=\"#000000\"/>\n",
       "<text fill=\"#000000\" font-family=\"Helvetica,sans-Serif\" font-size=\"14.00\" text-anchor=\"middle\" x=\"220.9531\" y=\"-162.8\">petal width (cm) &lt;= 1.75</text>\n",
       "<text fill=\"#000000\" font-family=\"Helvetica,sans-Serif\" font-size=\"14.00\" text-anchor=\"middle\" x=\"220.9531\" y=\"-148.8\">gini = 0.5</text>\n",
       "<text fill=\"#000000\" font-family=\"Helvetica,sans-Serif\" font-size=\"14.00\" text-anchor=\"middle\" x=\"220.9531\" y=\"-134.8\">samples = 100</text>\n",
       "<text fill=\"#000000\" font-family=\"Helvetica,sans-Serif\" font-size=\"14.00\" text-anchor=\"middle\" x=\"220.9531\" y=\"-120.8\">value = [0, 50, 50]</text>\n",
       "<text fill=\"#000000\" font-family=\"Helvetica,sans-Serif\" font-size=\"14.00\" text-anchor=\"middle\" x=\"220.9531\" y=\"-106.8\">class = versicolor</text>\n",
       "</g>\n",
       "<!-- 0&#45;&gt;2 -->\n",
       "<g class=\"edge\" id=\"edge2\">\n",
       "<title>0-&gt;2</title>\n",
       "<path d=\"M167.8287,-213.7677C174.0653,-204.9903 180.7456,-195.5883 187.1917,-186.5161\" fill=\"none\" stroke=\"#000000\"/>\n",
       "<polygon fill=\"#000000\" points=\"190.0872,-188.4837 193.0261,-178.3046 184.3809,-184.4292 190.0872,-188.4837\" stroke=\"#000000\"/>\n",
       "<text fill=\"#000000\" font-family=\"Helvetica,sans-Serif\" font-size=\"14.00\" text-anchor=\"middle\" x=\"197.1976\" y=\"-198.7542\">False</text>\n",
       "</g>\n",
       "<!-- 3 -->\n",
       "<g class=\"node\" id=\"node4\">\n",
       "<title>3</title>\n",
       "<path d=\"M200.7083,-64C200.7083,-64 101.198,-64 101.198,-64 95.198,-64 89.198,-58 89.198,-52 89.198,-52 89.198,-12 89.198,-12 89.198,-6 95.198,0 101.198,0 101.198,0 200.7083,0 200.7083,0 206.7083,0 212.7083,-6 212.7083,-12 212.7083,-12 212.7083,-52 212.7083,-52 212.7083,-58 206.7083,-64 200.7083,-64\" fill=\"#39e581\" fill-opacity=\"0.898039\" stroke=\"#000000\"/>\n",
       "<text fill=\"#000000\" font-family=\"Helvetica,sans-Serif\" font-size=\"14.00\" text-anchor=\"middle\" x=\"150.9531\" y=\"-48.8\">gini = 0.168</text>\n",
       "<text fill=\"#000000\" font-family=\"Helvetica,sans-Serif\" font-size=\"14.00\" text-anchor=\"middle\" x=\"150.9531\" y=\"-34.8\">samples = 54</text>\n",
       "<text fill=\"#000000\" font-family=\"Helvetica,sans-Serif\" font-size=\"14.00\" text-anchor=\"middle\" x=\"150.9531\" y=\"-20.8\">value = [0, 49, 5]</text>\n",
       "<text fill=\"#000000\" font-family=\"Helvetica,sans-Serif\" font-size=\"14.00\" text-anchor=\"middle\" x=\"150.9531\" y=\"-6.8\">class = versicolor</text>\n",
       "</g>\n",
       "<!-- 2&#45;&gt;3 -->\n",
       "<g class=\"edge\" id=\"edge3\">\n",
       "<title>2-&gt;3</title>\n",
       "<path d=\"M195.2852,-99.7647C189.5493,-90.9971 183.4527,-81.678 177.6754,-72.8469\" fill=\"none\" stroke=\"#000000\"/>\n",
       "<polygon fill=\"#000000\" points=\"180.4331,-70.6691 172.0296,-64.2169 174.5753,-74.5013 180.4331,-70.6691\" stroke=\"#000000\"/>\n",
       "</g>\n",
       "<!-- 4 -->\n",
       "<g class=\"node\" id=\"node5\">\n",
       "<title>4</title>\n",
       "<path d=\"M338.8594,-64C338.8594,-64 243.0468,-64 243.0468,-64 237.0468,-64 231.0468,-58 231.0468,-52 231.0468,-52 231.0468,-12 231.0468,-12 231.0468,-6 237.0468,0 243.0468,0 243.0468,0 338.8594,0 338.8594,0 344.8594,0 350.8594,-6 350.8594,-12 350.8594,-12 350.8594,-52 350.8594,-52 350.8594,-58 344.8594,-64 338.8594,-64\" fill=\"#8139e5\" fill-opacity=\"0.976471\" stroke=\"#000000\"/>\n",
       "<text fill=\"#000000\" font-family=\"Helvetica,sans-Serif\" font-size=\"14.00\" text-anchor=\"middle\" x=\"290.9531\" y=\"-48.8\">gini = 0.043</text>\n",
       "<text fill=\"#000000\" font-family=\"Helvetica,sans-Serif\" font-size=\"14.00\" text-anchor=\"middle\" x=\"290.9531\" y=\"-34.8\">samples = 46</text>\n",
       "<text fill=\"#000000\" font-family=\"Helvetica,sans-Serif\" font-size=\"14.00\" text-anchor=\"middle\" x=\"290.9531\" y=\"-20.8\">value = [0, 1, 45]</text>\n",
       "<text fill=\"#000000\" font-family=\"Helvetica,sans-Serif\" font-size=\"14.00\" text-anchor=\"middle\" x=\"290.9531\" y=\"-6.8\">class = virginica</text>\n",
       "</g>\n",
       "<!-- 2&#45;&gt;4 -->\n",
       "<g class=\"edge\" id=\"edge4\">\n",
       "<title>2-&gt;4</title>\n",
       "<path d=\"M246.6211,-99.7647C252.3569,-90.9971 258.4535,-81.678 264.2309,-72.8469\" fill=\"none\" stroke=\"#000000\"/>\n",
       "<polygon fill=\"#000000\" points=\"267.3309,-74.5013 269.8767,-64.2169 261.4731,-70.6691 267.3309,-74.5013\" stroke=\"#000000\"/>\n",
       "</g>\n",
       "</g>\n",
       "</svg>"
      ],
      "text/plain": [
       "<IPython.core.display.SVG object>"
      ]
     },
     "execution_count": 18,
     "metadata": {},
     "output_type": "execute_result"
    }
   ],
   "source": [
    "from sklearn.tree import export_graphviz\n",
    "from IPython.display import SVG\n",
    "from graphviz import Source\n",
    "\n",
    "def print_dt(tree_clf, feature_names=None, class_names=None):\n",
    "    graph = Source(export_graphviz(\n",
    "        tree_clf,\n",
    "        out_file=None,\n",
    "        feature_names=feature_names,\n",
    "        class_names=class_names,\n",
    "        rounded=True,\n",
    "        filled=True\n",
    "    ))\n",
    "    return SVG(graph.pipe(format='svg'))\n",
    "    \n",
    "print_dt(tree_clf, iris.feature_names[2:], iris.target_names)"
   ]
  },
  {
   "cell_type": "markdown",
   "metadata": {},
   "source": [
    "#### Note:\n",
    "\n",
    "* A node’s gini attribute measures its impurity: a node is “pure” (gini=0) if all training instances it applies to belong to the same class.\n",
    "* $G_i = 1 - \\sum\\limits_{k=1,...,n}p_{i,k}^2$ for node $k$ and instance class $k$."
   ]
  },
  {
   "cell_type": "markdown",
   "metadata": {},
   "source": [
    "## Training decision trees\n",
    "\n",
    "* Scikit-Learn uses the Classification And Regression Tree (CART) algorithm to train Decision Trees.\n",
    "* It is a greedy algorithm: it greedily searches for an optimum split at the top level, then repeats the process at each level.\n",
    "* Finding the optimal tree is known to be an NP-Complete problem. CARTs greedy solution is $O(n \\times m \\times log(m))$.\n",
    "* The cost is given by: $J(k,t_k)=\\frac{samples_{left}}{samples}G_{left} + \\frac{samples_{right}}{samples}G_{right}$."
   ]
  },
  {
   "cell_type": "markdown",
   "metadata": {},
   "source": [
    "#### Note:\n",
    "* Regularization is controlled by options: min_samples_split, min_samples_leaf, max_leaf_nodes, max_features and min_weight_fraction.\n",
    "* DTs are sensitive to: (1) rotation of dataset inputs, (2) small variations in the training data."
   ]
  },
  {
   "cell_type": "markdown",
   "metadata": {},
   "source": [
    "## Decision Trees for Regression"
   ]
  },
  {
   "cell_type": "code",
   "execution_count": 28,
   "metadata": {
    "collapsed": false
   },
   "outputs": [
    {
     "data": {
      "text/plain": [
       "DecisionTreeRegressor(criterion='mse', max_depth=2, max_features=None,\n",
       "           max_leaf_nodes=None, min_impurity_decrease=0.0,\n",
       "           min_impurity_split=None, min_samples_leaf=1,\n",
       "           min_samples_split=2, min_weight_fraction_leaf=0.0,\n",
       "           presort=False, random_state=None, splitter='best')"
      ]
     },
     "execution_count": 28,
     "metadata": {},
     "output_type": "execute_result"
    }
   ],
   "source": [
    "from sklearn.tree import DecisionTreeRegressor \n",
    "import numpy as np\n",
    "np.random.seed(42)\n",
    "X = np.linspace(0.0,10.0,200).reshape(-1, 1)\n",
    "y = 2 * X ** 2 + 3 * X + np.random.uniform(0.0,0.1,200).reshape(-1, 1)\n",
    "tree_reg = DecisionTreeRegressor(max_depth=2)\n",
    "tree_reg.fit(X, y)"
   ]
  },
  {
   "cell_type": "code",
   "execution_count": 29,
   "metadata": {
    "collapsed": false
   },
   "outputs": [
    {
     "data": {
      "image/svg+xml": [
       "<svg height=\"258pt\" viewBox=\"0.00 0.00 512.52 258.00\" width=\"513pt\" xmlns=\"http://www.w3.org/2000/svg\" xmlns:xlink=\"http://www.w3.org/1999/xlink\">\n",
       "<g class=\"graph\" id=\"graph0\" transform=\"scale(1 1) rotate(0) translate(4 254)\">\n",
       "<title>Tree</title>\n",
       "<polygon fill=\"#ffffff\" points=\"-4,4 -4,-254 508.52,-254 508.52,4 -4,4\" stroke=\"transparent\"/>\n",
       "<!-- 0 -->\n",
       "<g class=\"node\" id=\"node1\">\n",
       "<title>0</title>\n",
       "<path d=\"M292.801,-250C292.801,-250 200.2088,-250 200.2088,-250 194.2088,-250 188.2088,-244 188.2088,-238 188.2088,-238 188.2088,-198 188.2088,-198 188.2088,-192 194.2088,-186 200.2088,-186 200.2088,-186 292.801,-186 292.801,-186 298.801,-186 304.801,-192 304.801,-198 304.801,-198 304.801,-238 304.801,-238 304.801,-244 298.801,-250 292.801,-250\" fill=\"#e58139\" fill-opacity=\"0.368627\" stroke=\"#000000\"/>\n",
       "<text fill=\"#000000\" font-family=\"Helvetica,sans-Serif\" font-size=\"14.00\" text-anchor=\"middle\" x=\"246.5049\" y=\"-234.8\">X[0] &lt;= 6.256</text>\n",
       "<text fill=\"#000000\" font-family=\"Helvetica,sans-Serif\" font-size=\"14.00\" text-anchor=\"middle\" x=\"246.5049\" y=\"-220.8\">mse = 4679.626</text>\n",
       "<text fill=\"#000000\" font-family=\"Helvetica,sans-Serif\" font-size=\"14.00\" text-anchor=\"middle\" x=\"246.5049\" y=\"-206.8\">samples = 200</text>\n",
       "<text fill=\"#000000\" font-family=\"Helvetica,sans-Serif\" font-size=\"14.00\" text-anchor=\"middle\" x=\"246.5049\" y=\"-192.8\">value = 81.883</text>\n",
       "</g>\n",
       "<!-- 1 -->\n",
       "<g class=\"node\" id=\"node2\">\n",
       "<title>1</title>\n",
       "<path d=\"M224.0146,-150C224.0146,-150 138.9951,-150 138.9951,-150 132.9951,-150 126.9951,-144 126.9951,-138 126.9951,-138 126.9951,-98 126.9951,-98 126.9951,-92 132.9951,-86 138.9951,-86 138.9951,-86 224.0146,-86 224.0146,-86 230.0146,-86 236.0146,-92 236.0146,-98 236.0146,-98 236.0146,-138 236.0146,-138 236.0146,-144 230.0146,-150 224.0146,-150\" fill=\"#e58139\" fill-opacity=\"0.109804\" stroke=\"#000000\"/>\n",
       "<text fill=\"#000000\" font-family=\"Helvetica,sans-Serif\" font-size=\"14.00\" text-anchor=\"middle\" x=\"181.5049\" y=\"-134.8\">X[0] &lt;= 3.894</text>\n",
       "<text fill=\"#000000\" font-family=\"Helvetica,sans-Serif\" font-size=\"14.00\" text-anchor=\"middle\" x=\"181.5049\" y=\"-120.8\">mse = 820.731</text>\n",
       "<text fill=\"#000000\" font-family=\"Helvetica,sans-Serif\" font-size=\"14.00\" text-anchor=\"middle\" x=\"181.5049\" y=\"-106.8\">samples = 125</text>\n",
       "<text fill=\"#000000\" font-family=\"Helvetica,sans-Serif\" font-size=\"14.00\" text-anchor=\"middle\" x=\"181.5049\" y=\"-92.8\">value = 35.384</text>\n",
       "</g>\n",
       "<!-- 0&#45;&gt;1 -->\n",
       "<g class=\"edge\" id=\"edge1\">\n",
       "<title>0-&gt;1</title>\n",
       "<path d=\"M225.5807,-185.8089C219.9558,-177.1553 213.7988,-167.683 207.9177,-158.635\" fill=\"none\" stroke=\"#000000\"/>\n",
       "<polygon fill=\"#000000\" points=\"210.7744,-156.6077 202.3899,-150.1308 204.9052,-160.4227 210.7744,-156.6077\" stroke=\"#000000\"/>\n",
       "<text fill=\"#000000\" font-family=\"Helvetica,sans-Serif\" font-size=\"14.00\" text-anchor=\"middle\" x=\"197.2023\" y=\"-170.3866\">True</text>\n",
       "</g>\n",
       "<!-- 4 -->\n",
       "<g class=\"node\" id=\"node5\">\n",
       "<title>4</title>\n",
       "<path d=\"M358.5352,-150C358.5352,-150 266.4746,-150 266.4746,-150 260.4746,-150 254.4746,-144 254.4746,-138 254.4746,-138 254.4746,-98 254.4746,-98 254.4746,-92 260.4746,-86 266.4746,-86 266.4746,-86 358.5352,-86 358.5352,-86 364.5352,-86 370.5352,-92 370.5352,-98 370.5352,-98 370.5352,-138 370.5352,-138 370.5352,-144 364.5352,-150 358.5352,-150\" fill=\"#e58139\" fill-opacity=\"0.800000\" stroke=\"#000000\"/>\n",
       "<text fill=\"#000000\" font-family=\"Helvetica,sans-Serif\" font-size=\"14.00\" text-anchor=\"middle\" x=\"312.5049\" y=\"-134.8\">X[0] &lt;= 8.266</text>\n",
       "<text fill=\"#000000\" font-family=\"Helvetica,sans-Serif\" font-size=\"14.00\" text-anchor=\"middle\" x=\"312.5049\" y=\"-120.8\">mse = 1501.57</text>\n",
       "<text fill=\"#000000\" font-family=\"Helvetica,sans-Serif\" font-size=\"14.00\" text-anchor=\"middle\" x=\"312.5049\" y=\"-106.8\">samples = 75</text>\n",
       "<text fill=\"#000000\" font-family=\"Helvetica,sans-Serif\" font-size=\"14.00\" text-anchor=\"middle\" x=\"312.5049\" y=\"-92.8\">value = 159.381</text>\n",
       "</g>\n",
       "<!-- 0&#45;&gt;4 -->\n",
       "<g class=\"edge\" id=\"edge4\">\n",
       "<title>0-&gt;4</title>\n",
       "<path d=\"M267.751,-185.8089C273.4624,-177.1553 279.7141,-167.683 285.6858,-158.635\" fill=\"none\" stroke=\"#000000\"/>\n",
       "<polygon fill=\"#000000\" points=\"288.7113,-160.4048 291.2986,-150.1308 282.869,-156.5489 288.7113,-160.4048\" stroke=\"#000000\"/>\n",
       "<text fill=\"#000000\" font-family=\"Helvetica,sans-Serif\" font-size=\"14.00\" text-anchor=\"middle\" x=\"296.3149\" y=\"-170.4223\">False</text>\n",
       "</g>\n",
       "<!-- 2 -->\n",
       "<g class=\"node\" id=\"node3\">\n",
       "<title>2</title>\n",
       "<path d=\"M97.0146,-50C97.0146,-50 11.9951,-50 11.9951,-50 5.9951,-50 -.0049,-44 -.0049,-38 -.0049,-38 -.0049,-12 -.0049,-12 -.0049,-6 5.9951,0 11.9951,0 11.9951,0 97.0146,0 97.0146,0 103.0146,0 109.0146,-6 109.0146,-12 109.0146,-12 109.0146,-38 109.0146,-38 109.0146,-44 103.0146,-50 97.0146,-50\" fill=\"transparent\" stroke=\"#000000\"/>\n",
       "<text fill=\"#000000\" font-family=\"Helvetica,sans-Serif\" font-size=\"14.00\" text-anchor=\"middle\" x=\"54.5049\" y=\"-34.8\">mse = 152.898</text>\n",
       "<text fill=\"#000000\" font-family=\"Helvetica,sans-Serif\" font-size=\"14.00\" text-anchor=\"middle\" x=\"54.5049\" y=\"-20.8\">samples = 78</text>\n",
       "<text fill=\"#000000\" font-family=\"Helvetica,sans-Serif\" font-size=\"14.00\" text-anchor=\"middle\" x=\"54.5049\" y=\"-6.8\">value = 15.897</text>\n",
       "</g>\n",
       "<!-- 1&#45;&gt;2 -->\n",
       "<g class=\"edge\" id=\"edge2\">\n",
       "<title>1-&gt;2</title>\n",
       "<path d=\"M137.7987,-85.9947C124.6144,-76.3401 110.1653,-65.7592 97.0572,-56.1604\" fill=\"none\" stroke=\"#000000\"/>\n",
       "<polygon fill=\"#000000\" points=\"98.7998,-53.0984 88.6638,-50.014 94.6641,-58.746 98.7998,-53.0984\" stroke=\"#000000\"/>\n",
       "</g>\n",
       "<!-- 3 -->\n",
       "<g class=\"node\" id=\"node4\">\n",
       "<title>3</title>\n",
       "<path d=\"M224.0146,-50C224.0146,-50 138.9951,-50 138.9951,-50 132.9951,-50 126.9951,-44 126.9951,-38 126.9951,-38 126.9951,-12 126.9951,-12 126.9951,-6 132.9951,0 138.9951,0 138.9951,0 224.0146,0 224.0146,0 230.0146,0 236.0146,-6 236.0146,-12 236.0146,-12 236.0146,-38 236.0146,-38 236.0146,-44 230.0146,-50 224.0146,-50\" fill=\"#e58139\" fill-opacity=\"0.290196\" stroke=\"#000000\"/>\n",
       "<text fill=\"#000000\" font-family=\"Helvetica,sans-Serif\" font-size=\"14.00\" text-anchor=\"middle\" x=\"181.5049\" y=\"-34.8\">mse = 253.052</text>\n",
       "<text fill=\"#000000\" font-family=\"Helvetica,sans-Serif\" font-size=\"14.00\" text-anchor=\"middle\" x=\"181.5049\" y=\"-20.8\">samples = 47</text>\n",
       "<text fill=\"#000000\" font-family=\"Helvetica,sans-Serif\" font-size=\"14.00\" text-anchor=\"middle\" x=\"181.5049\" y=\"-6.8\">value = 67.723</text>\n",
       "</g>\n",
       "<!-- 1&#45;&gt;3 -->\n",
       "<g class=\"edge\" id=\"edge3\">\n",
       "<title>1-&gt;3</title>\n",
       "<path d=\"M181.5049,-85.9947C181.5049,-77.6273 181.5049,-68.5643 181.5049,-60.0478\" fill=\"none\" stroke=\"#000000\"/>\n",
       "<polygon fill=\"#000000\" points=\"185.005,-60.014 181.5049,-50.014 178.005,-60.0141 185.005,-60.014\" stroke=\"#000000\"/>\n",
       "</g>\n",
       "<!-- 5 -->\n",
       "<g class=\"node\" id=\"node6\">\n",
       "<title>5</title>\n",
       "<path d=\"M358.5352,-50C358.5352,-50 266.4746,-50 266.4746,-50 260.4746,-50 254.4746,-44 254.4746,-38 254.4746,-38 254.4746,-12 254.4746,-12 254.4746,-6 260.4746,0 266.4746,0 266.4746,0 358.5352,0 358.5352,0 364.5352,0 370.5352,-6 370.5352,-12 370.5352,-12 370.5352,-38 370.5352,-38 370.5352,-44 364.5352,-50 358.5352,-50\" fill=\"#e58139\" fill-opacity=\"0.623529\" stroke=\"#000000\"/>\n",
       "<text fill=\"#000000\" font-family=\"Helvetica,sans-Serif\" font-size=\"14.00\" text-anchor=\"middle\" x=\"312.5049\" y=\"-34.8\">mse = 345.886</text>\n",
       "<text fill=\"#000000\" font-family=\"Helvetica,sans-Serif\" font-size=\"14.00\" text-anchor=\"middle\" x=\"312.5049\" y=\"-20.8\">samples = 40</text>\n",
       "<text fill=\"#000000\" font-family=\"Helvetica,sans-Serif\" font-size=\"14.00\" text-anchor=\"middle\" x=\"312.5049\" y=\"-6.8\">value = 127.958</text>\n",
       "</g>\n",
       "<!-- 4&#45;&gt;5 -->\n",
       "<g class=\"edge\" id=\"edge5\">\n",
       "<title>4-&gt;5</title>\n",
       "<path d=\"M312.5049,-85.9947C312.5049,-77.6273 312.5049,-68.5643 312.5049,-60.0478\" fill=\"none\" stroke=\"#000000\"/>\n",
       "<polygon fill=\"#000000\" points=\"316.005,-60.014 312.5049,-50.014 309.005,-60.0141 316.005,-60.014\" stroke=\"#000000\"/>\n",
       "</g>\n",
       "<!-- 6 -->\n",
       "<g class=\"node\" id=\"node7\">\n",
       "<title>6</title>\n",
       "<path d=\"M492.5352,-50C492.5352,-50 400.4746,-50 400.4746,-50 394.4746,-50 388.4746,-44 388.4746,-38 388.4746,-38 388.4746,-12 388.4746,-12 388.4746,-6 394.4746,0 400.4746,0 400.4746,0 492.5352,0 492.5352,0 498.5352,0 504.5352,-6 504.5352,-12 504.5352,-12 504.5352,-38 504.5352,-38 504.5352,-44 498.5352,-50 492.5352,-50\" fill=\"#e58139\" stroke=\"#000000\"/>\n",
       "<text fill=\"#000000\" font-family=\"Helvetica,sans-Serif\" font-size=\"14.00\" text-anchor=\"middle\" x=\"446.5049\" y=\"-34.8\">mse = 404.18</text>\n",
       "<text fill=\"#000000\" font-family=\"Helvetica,sans-Serif\" font-size=\"14.00\" text-anchor=\"middle\" x=\"446.5049\" y=\"-20.8\">samples = 35</text>\n",
       "<text fill=\"#000000\" font-family=\"Helvetica,sans-Serif\" font-size=\"14.00\" text-anchor=\"middle\" x=\"446.5049\" y=\"-6.8\">value = 195.293</text>\n",
       "</g>\n",
       "<!-- 4&#45;&gt;6 -->\n",
       "<g class=\"edge\" id=\"edge6\">\n",
       "<title>4-&gt;6</title>\n",
       "<path d=\"M358.6201,-85.9947C372.6635,-76.2481 388.0671,-65.5575 402.0019,-55.8864\" fill=\"none\" stroke=\"#000000\"/>\n",
       "<polygon fill=\"#000000\" points=\"404.2434,-58.5911 410.4632,-50.014 400.2523,-52.8404 404.2434,-58.5911\" stroke=\"#000000\"/>\n",
       "</g>\n",
       "</g>\n",
       "</svg>"
      ],
      "text/plain": [
       "<IPython.core.display.SVG object>"
      ]
     },
     "execution_count": 29,
     "metadata": {},
     "output_type": "execute_result"
    }
   ],
   "source": [
    "print_dt(tree_reg)"
   ]
  },
  {
   "cell_type": "code",
   "execution_count": 32,
   "metadata": {
    "collapsed": false
   },
   "outputs": [
    {
     "data": {
      "image/png": "[encoded data removed]",
      "text/plain": [
       "<matplotlib.figure.Figure at 0x117d9bda0>"
      ]
     },
     "metadata": {},
     "output_type": "display_data"
    }
   ],
   "source": [
    "import matplotlib\n",
    "import matplotlib.pyplot as plt\n",
    "# Plot it\n",
    "plt.plot(X, tree_reg.predict(X), \"r.\") # add line '-'\n",
    "plt.plot(X, y, \"b.\") # add samples as dots '.'\n",
    "plt.xlabel('X')\n",
    "plt.ylabel('y')\n",
    "plt.show()"
   ]
  }
 ],
 "metadata": {
  "kernelspec": {
   "display_name": "Python 3",
   "language": "python",
   "name": "python3"
  },
  "language_info": {
   "codemirror_mode": {
    "name": "ipython",
    "version": 3
   },
   "file_extension": ".py",
   "mimetype": "text/x-python",
   "name": "python",
   "nbconvert_exporter": "python",
   "pygments_lexer": "ipython3",
   "version": "3.5.0"
  }
 },
 "nbformat": 4,
 "nbformat_minor": 2
}
