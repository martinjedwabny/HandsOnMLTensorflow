{
 "cells": [
  {
   "cell_type": "markdown",
   "metadata": {},
   "source": [
    "# Chapter 8: Dimentionality Reduction"
   ]
  },
  {
   "cell_type": "markdown",
   "metadata": {},
   "source": [
    "## Manifold Learning\n",
    "\n",
    "A 2D manifold is a 2D shape that can be bent and twisted in a higher-dimensional space. More generally, a d-dimensional manifold is a part of an n-dimensional space (where d < n) that locally resembles a d-dimensional hyperplane.\n",
    "\n",
    "Many dimensionality reduction algorithms work by modeling the manifold on which the training instances lie; this is called Manifold Learning."
   ]
  },
  {
   "cell_type": "markdown",
   "metadata": {},
   "source": [
    "## PCA\n",
    "\n",
    "Principal Component Analysis (PCA) selects the axis (projects the data) that preserves the maximum amount of variance, as it will most likely lose less information (minimizes the MSE between the projection and the original data) than the other projections.\n",
    "\n",
    "Singular Value Decomposition (SVD) that decompose the training set matrix X into the dot product of three matrices $U \\Sigma V^T$, where $V^T$ contains all the principal components."
   ]
  },
  {
   "cell_type": "markdown",
   "metadata": {},
   "source": [
    "#### By hand"
   ]
  },
  {
   "cell_type": "code",
   "execution_count": 67,
   "metadata": {
    "collapsed": false
   },
   "outputs": [
    {
     "name": "stdout",
     "output_type": "stream",
     "text": [
      "Reduced (1437, 64) to (1437, 32)\n"
     ]
    }
   ],
   "source": [
    "# Load dataset\n",
    "import numpy as np\n",
    "from sklearn.model_selection import train_test_split\n",
    "from sklearn.datasets import load_digits\n",
    "dataset = load_digits()\n",
    "X = dataset.data\n",
    "y = dataset.target\n",
    "X_train, X_test, y_train, y_test = train_test_split(\n",
    "    X, y, test_size=0.2, random_state=42)\n",
    "\n",
    "# PCA\n",
    "def PCA(X_train,X_test,dim):\n",
    "    # Center data\n",
    "    X_mean = np.mean(X_train,axis=0) # per column\n",
    "    X_train_c = X_train - X_mean # centering\n",
    "    X_test_c = X_test - X_mean # centering\n",
    "    # Get SVD decomposition\n",
    "    U, s, V = np.linalg.svd(X_train_c)\n",
    "    # Reduce dimentionality\n",
    "    PC = V.T[:, :dim]\n",
    "    X_train_pc = X_train_c.dot(PC)\n",
    "    X_test_pc = X_test_c.dot(PC)\n",
    "    return X_train_pc, X_test_pc\n",
    "\n",
    "# Example using PCA\n",
    "X_train_pc, X_test_pc = PCA(X_train,X_test,32)\n",
    "print(\"Reduced\", X_train.shape, \"to\", X_train_pc.shape)"
   ]
  },
  {
   "cell_type": "code",
   "execution_count": 68,
   "metadata": {
    "collapsed": false
   },
   "outputs": [
    {
     "name": "stdout",
     "output_type": "stream",
     "text": [
      "True [6 9 3 7 2 1 5 2 5 2]\n",
      "Predicted [6 9 3 7 2 5 5 2 5 2]\n",
      "Accuracy score 0.8583333333333333\n",
      "Confusion matrix \n",
      " [[29  0  1  0  1  1  1  0  0  0]\n",
      " [ 0 24  0  0  0  1  1  1  1  0]\n",
      " [ 0  0 31  0  0  0  0  0  1  1]\n",
      " [ 0  0  1 31  0  0  0  0  0  2]\n",
      " [ 0  0  0  0 44  0  1  1  0  0]\n",
      " [ 2  1  0  2  0 35  1  0  1  5]\n",
      " [ 1  1  0  0  0  0 33  0  0  0]\n",
      " [ 0  1  2  0  2  0  0 29  0  0]\n",
      " [ 0  1  1  0  0  0  0  1 25  2]\n",
      " [ 1  0  4  2  0  1  0  2  2 28]]\n"
     ]
    }
   ],
   "source": [
    "# Train DT\n",
    "from sklearn.tree import DecisionTreeClassifier\n",
    "clf = DecisionTreeClassifier(min_samples_split=5, random_state=42)\n",
    "clf.fit(X_train_pc,y_train)\n",
    "y_predict = clf.predict(X_test_pc)\n",
    "\n",
    "# See results\n",
    "print(\"True\", y_test[:10])\n",
    "print(\"Predicted\", y_predict[:10])\n",
    "\n",
    "# Measure accuracy\n",
    "from sklearn.metrics import accuracy_score, confusion_matrix\n",
    "print(\"Accuracy score\",accuracy_score(y_test,y_predict,normalize = True))\n",
    "print(\"Confusion matrix \\n\", confusion_matrix(y_test, y_predict))"
   ]
  },
  {
   "cell_type": "markdown",
   "metadata": {},
   "source": [
    "#### With sklearn"
   ]
  },
  {
   "cell_type": "code",
   "execution_count": 69,
   "metadata": {
    "collapsed": false
   },
   "outputs": [
    {
     "name": "stdout",
     "output_type": "stream",
     "text": [
      "True [6 9 3 7 2 1 5 2 5 2]\n",
      "Predicted [6 9 3 2 2 1 5 2 5 2]\n",
      "Accuracy 0.8444444444444444\n",
      "Confusion matrix \n",
      " [[28  1  0  0  1  1  1  0  1  0]\n",
      " [ 0 25  0  0  0  0  0  1  2  0]\n",
      " [ 0  0 31  0  0  0  0  1  1  0]\n",
      " [ 0  0  1 30  1  0  0  0  0  2]\n",
      " [ 0  0  0  0 44  0  1  1  0  0]\n",
      " [ 1  1  0  1  1 35  1  0  1  6]\n",
      " [ 1  1  0  0  0  0 33  0  0  0]\n",
      " [ 0  1  3  0  1  0  0 28  1  0]\n",
      " [ 0  2  1  0  0  0  0  1 24  2]\n",
      " [ 1  0  4  3  0  2  0  2  2 26]]\n"
     ]
    }
   ],
   "source": [
    "from sklearn.decomposition import PCA \n",
    "pca = PCA(n_components = 32)\n",
    "X_train_pc_sk = pca.fit_transform(X_train)\n",
    "X_test_pc_sk = pca.transform(X_test)\n",
    "\n",
    "clf = DecisionTreeClassifier(min_samples_split=2, random_state=42)\n",
    "clf.fit(X_train_pc_sk,y_train)\n",
    "y_predict = clf.predict(X_test_pc_sk)\n",
    "\n",
    "# See results\n",
    "print(\"True\", y_test[:10])\n",
    "print(\"Predicted\", y_predict[:10])\n",
    "\n",
    "# Measure accuracy\n",
    "from sklearn.metrics import accuracy_score, confusion_matrix\n",
    "print(\"Accuracy\",accuracy_score(y_test,y_predict,normalize = True))\n",
    "print(\"Confusion matrix \\n\", confusion_matrix(y_test, y_predict))"
   ]
  },
  {
   "cell_type": "markdown",
   "metadata": {},
   "source": [
    "## Choosing number of dimentions\n",
    "\n",
    "Idea: choose dimentions that preserve 95% of variance"
   ]
  },
  {
   "cell_type": "code",
   "execution_count": 70,
   "metadata": {
    "collapsed": false
   },
   "outputs": [
    {
     "name": "stdout",
     "output_type": "stream",
     "text": [
      "28\n"
     ]
    }
   ],
   "source": [
    "pca = PCA()\n",
    "pca.fit(X_train)\n",
    "cumsum = np.cumsum(pca.explained_variance_ratio_)\n",
    "d = np.argmax(cumsum >= 0.95) + 1\n",
    "print(d)"
   ]
  },
  {
   "cell_type": "markdown",
   "metadata": {},
   "source": [
    "## Compression"
   ]
  },
  {
   "cell_type": "code",
   "execution_count": 76,
   "metadata": {
    "collapsed": false
   },
   "outputs": [
    {
     "data": {
      "image/png": "[encoded data removed]",
      "text/plain": [
       "<matplotlib.figure.Figure at 0x1174fc940>"
      ]
     },
     "metadata": {},
     "output_type": "display_data"
    },
    {
     "data": {
      "image/png": "[encoded data removed]",
      "text/plain": [
       "<matplotlib.figure.Figure at 0x11c262860>"
      ]
     },
     "metadata": {},
     "output_type": "display_data"
    }
   ],
   "source": [
    "pca = PCA(n_components = 28)\n",
    "X_reduced = pca.fit_transform(X_train)\n",
    "X_recovered = pca.inverse_transform(X_reduced)\n",
    "\n",
    "import matplotlib\n",
    "import matplotlib.pyplot as plt\n",
    "\n",
    "# Print first image not compressed\n",
    "plt.imshow(X_train[0].reshape(8,8), cmap = matplotlib.cm.binary, interpolation=\"nearest\")\n",
    "plt.axis(\"off\")\n",
    "plt.show()\n",
    "\n",
    "# Print first image compressed\n",
    "plt.imshow(X_recovered[0].reshape(8,8), cmap = matplotlib.cm.binary, interpolation=\"nearest\")\n",
    "plt.axis(\"off\")\n",
    "plt.show()"
   ]
  },
  {
   "cell_type": "markdown",
   "metadata": {},
   "source": [
    "## Kernel PCA\n",
    "\n",
    "The kernel trick can also be applied to PCA. Meaning, new features are constructed with non-linear transformations are produced with the existing input features."
   ]
  },
  {
   "cell_type": "code",
   "execution_count": 100,
   "metadata": {
    "collapsed": false
   },
   "outputs": [],
   "source": [
    "from sklearn.decomposition import KernelPCA\n",
    "rbf_pca = KernelPCA(n_components = 28, kernel=\"rbf\", gamma=0.04,fit_inverse_transform=True)\n",
    "X_reduced = rbf_pca.fit_transform(X_train)\n",
    "X_recovered = rbf_pca.inverse_transform(X_reduced)"
   ]
  },
  {
   "cell_type": "code",
   "execution_count": 101,
   "metadata": {
    "collapsed": false
   },
   "outputs": [
    {
     "data": {
      "image/png": "[encoded data removed]",
      "text/plain": [
       "<matplotlib.figure.Figure at 0x11c8e2208>"
      ]
     },
     "metadata": {},
     "output_type": "display_data"
    }
   ],
   "source": [
    "# Print image compressed\n",
    "plt.imshow(X_recovered[0].reshape(8,8), cmap = matplotlib.cm.binary, interpolation=\"nearest\")\n",
    "plt.axis(\"off\")\n",
    "plt.show()"
   ]
  },
  {
   "cell_type": "markdown",
   "metadata": {},
   "source": [
    "## Selecting a Kernel and Tuning Hyperparameters\n",
    "\n",
    "We can use GridSearch to best select the kernel function and parameters."
   ]
  },
  {
   "cell_type": "code",
   "execution_count": 130,
   "metadata": {
    "collapsed": false
   },
   "outputs": [
    {
     "name": "stdout",
     "output_type": "stream",
     "text": [
      "Fitting 3 folds for each of 20 candidates, totalling 60 fits\n"
     ]
    },
    {
     "name": "stderr",
     "output_type": "stream",
     "text": [
      "[Parallel(n_jobs=1)]: Using backend SequentialBackend with 1 concurrent workers.\n",
      "/Library/Frameworks/Python.framework/Versions/3.5/lib/python3.5/site-packages/sklearn/svm/base.py:931: ConvergenceWarning: Liblinear failed to converge, increase the number of iterations.\n",
      "  \"the number of iterations.\", ConvergenceWarning)\n",
      "/Library/Frameworks/Python.framework/Versions/3.5/lib/python3.5/site-packages/sklearn/svm/base.py:931: ConvergenceWarning: Liblinear failed to converge, increase the number of iterations.\n",
      "  \"the number of iterations.\", ConvergenceWarning)\n",
      "[Parallel(n_jobs=1)]: Done  60 out of  60 | elapsed:   26.2s finished\n"
     ]
    },
    {
     "name": "stdout",
     "output_type": "stream",
     "text": [
      "{'kpca__kernel': 'poly', 'kpca__n_components': 28, 'kpca__gamma': 0.02}\n"
     ]
    }
   ],
   "source": [
    "from sklearn.model_selection import GridSearchCV \n",
    "from sklearn.linear_model import LogisticRegression \n",
    "from sklearn.pipeline import Pipeline\n",
    "\n",
    "clf = Pipeline([\n",
    "        (\"kpca\", KernelPCA()),\n",
    "        (\"log_reg\", LogisticRegression(solver='liblinear',multi_class='auto'))\n",
    "])\n",
    "param_grid = [{\n",
    "    \"kpca__n_components\": [4,28],\n",
    "    \"kpca__gamma\": np.linspace(0.02, 1.0, 5),\n",
    "    \"kpca__kernel\": [\"rbf\", \"poly\"]\n",
    "}]\n",
    "\n",
    "grid_search = GridSearchCV(clf, param_grid, cv=3, verbose=1)\n",
    "grid_search.fit(X_train, y_train)\n",
    "print(grid_search.best_params_)"
   ]
  },
  {
   "cell_type": "code",
   "execution_count": 131,
   "metadata": {
    "collapsed": false
   },
   "outputs": [
    {
     "name": "stdout",
     "output_type": "stream",
     "text": [
      "True [6 9 3 7 2 1 5 2 5 2]\n",
      "Predicted [6 9 3 7 2 1 5 2 5 2]\n",
      "Accuracy 0.9694444444444444\n",
      "Confusion matrix \n",
      " [[33  0  0  0  0  0  0  0  0  0]\n",
      " [ 0 28  0  0  0  0  0  0  0  0]\n",
      " [ 0  0 33  0  0  0  0  0  0  0]\n",
      " [ 0  0  0 33  0  1  0  0  0  0]\n",
      " [ 0  0  0  0 46  0  0  0  0  0]\n",
      " [ 0  0  0  0  0 44  1  0  0  2]\n",
      " [ 1  0  0  0  0  0 34  0  0  0]\n",
      " [ 0  0  0  0  0  0  0 33  0  1]\n",
      " [ 0  1  1  0  0  1  0  0 27  0]\n",
      " [ 0  0  0  0  0  1  0  0  1 38]]\n"
     ]
    }
   ],
   "source": [
    "y_predict = grid_search.predict(X_test)\n",
    "\n",
    "# See results\n",
    "print(\"True\", y_test[:10])\n",
    "print(\"Predicted\", y_predict[:10])\n",
    "\n",
    "# Measure accuracy\n",
    "from sklearn.metrics import accuracy_score, confusion_matrix\n",
    "print(\"Accuracy\",accuracy_score(y_test,y_predict,normalize = True))\n",
    "print(\"Confusion matrix \\n\", confusion_matrix(y_test, y_predict))"
   ]
  }
 ],
 "metadata": {
  "kernelspec": {
   "display_name": "Python 3",
   "language": "python",
   "name": "python3"
  },
  "language_info": {
   "codemirror_mode": {
    "name": "ipython",
    "version": 3
   },
   "file_extension": ".py",
   "mimetype": "text/x-python",
   "name": "python",
   "nbconvert_exporter": "python",
   "pygments_lexer": "ipython3",
   "version": "3.5.0"
  }
 },
 "nbformat": 4,
 "nbformat_minor": 2
}
