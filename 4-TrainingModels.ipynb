{
 "cells": [
  {
   "cell_type": "markdown",
   "metadata": {},
   "source": [
    "# Chapter 4: Training Models"
   ]
  },
  {
   "cell_type": "markdown",
   "metadata": {},
   "source": [
    "## Linear regression"
   ]
  },
  {
   "cell_type": "markdown",
   "metadata": {},
   "source": [
    "A linear regression model takes input features $x_1,...,x_n$ and predicts an output $y$ as:\n",
    "\n",
    "\\begin{align}\n",
    "y = h_{\\theta_0,...,\\theta_n}(x_1,...,x_n) = \\theta_0 + \\sum\\limits_{i=1,...,n} \\theta_i x_i\n",
    "\\end{align}\n",
    "\n",
    "where $\\theta_0,...,\\theta_n$ are the model parameters and $h$ is called the hypothesis function.\n",
    "\n",
    "In vectorized form, the equation can be expressed as:\n",
    "\n",
    "\\begin{align}\n",
    "y = h_{\\theta}(X) = \\theta^T * x\n",
    "\\end{align}\n",
    "\n",
    "where $\\theta = \\begin{bmatrix} \\theta_0 \\\\ \\theta_1 \\\\ \\vdots \\\\ \\theta_n\\end{bmatrix}$ and \n",
    "$x = \\begin{bmatrix} 1 \\\\ x_1 \\\\ \\vdots \\\\ x_n\\end{bmatrix}$."
   ]
  },
  {
   "cell_type": "markdown",
   "metadata": {},
   "source": [
    "#### Mean squared error"
   ]
  },
  {
   "cell_type": "markdown",
   "metadata": {},
   "source": [
    "Given a set of parameters $\\theta$ and $m$ samples with input $x^{(i)}$ and target values $y^{(i)}$ for $i=1,...,m$, the mean squared error (MSE) of the samples and hypothesis function is defined as:\n",
    "\n",
    "$MSE(X,h_{\\theta}) = \\frac{1}{m} \\sum\\limits_{i=1,...,m} (\\theta^T * x^{(i)} - y^{(i)})^2$"
   ]
  },
  {
   "cell_type": "markdown",
   "metadata": {},
   "source": [
    "## Normal equation"
   ]
  },
  {
   "cell_type": "markdown",
   "metadata": {},
   "source": [
    "The MSE w.r.t. the model parameters can be\n",
    "minimized by solving a single closed form matrix equation:\n",
    "    \n",
    "$\\hat{\\theta} = (X^T * X)^{-1} * X^T * y$\n",
    "\n",
    "Notice that in this case, $X$ and $y$ contain all the $m$ training samples. In other words:\n",
    "\n",
    "$X^T = \\begin{bmatrix} 1 & ... & 1 \\\\ x^{(1)}_1 & ... & x^{(m)}_1 \\\\ \\vdots & \\ddots & \\vdots \\\\ x^{(1)}_n & ... & x^{(m)}_n \\end{bmatrix}$ and \n",
    "$y = \\begin{bmatrix} y^{(1)} \\\\ \\vdots \\\\ y^{(m)}\\end{bmatrix}$"
   ]
  },
  {
   "cell_type": "code",
   "execution_count": 8,
   "metadata": {
    "collapsed": false
   },
   "outputs": [],
   "source": [
    "import numpy as np\n",
    "np.random.seed(42)\n",
    "X = 2 * np.random.rand(100, 1) # 100 samples with 1 feature\n",
    "y = 4 + 3 * X + np.random.randn(100, 1) # 100 sample targets\n",
    "\n",
    "def normal_equation(X,y):\n",
    "    X_b = np.c_[np.ones((len(X), 1)), X]\n",
    "    theta_best = np.linalg.inv(X_b.T.dot(X_b)).dot(X_b.T).dot(y)\n",
    "    return theta_best\n",
    "\n",
    "theta_best = normal_equation(X,y)"
   ]
  },
  {
   "cell_type": "code",
   "execution_count": 9,
   "metadata": {
    "collapsed": false
   },
   "outputs": [
    {
     "data": {
      "image/png": "[encoded data removed]",
      "text/plain": [
       "<matplotlib.figure.Figure at 0x117d4d8d0>"
      ]
     },
     "metadata": {},
     "output_type": "display_data"
    }
   ],
   "source": [
    "import matplotlib\n",
    "import matplotlib.pyplot as plt\n",
    "X_new = np.array([[0], [2]])\n",
    "X_new_b = np.c_[np.ones((2, 1)), X_new]\n",
    "y_predict = X_new_b.dot(theta_best)\n",
    "plt.plot(X_new, y_predict, \"r-\") # add line '-'\n",
    "plt.plot(X, y, \"b.\") # add samples as dots '.'\n",
    "plt.axis([0, 2, 0, 15]) # set bounds\n",
    "plt.xlabel('X')\n",
    "plt.ylabel('y')\n",
    "plt.show()"
   ]
  },
  {
   "cell_type": "markdown",
   "metadata": {},
   "source": [
    "#### Notes:\n",
    "* Normal equations require matrix multiplication and finding the inverse of $X^T * X$ which is almost cubic complexity depending on the implementation.\n",
    "* It scales badly with the number of features (slow for 100,000). This is because $X^T * X \\in \\mathbb{R}^{(n+1) \\times (n+1)}$ with $n$ the number of features.\n",
    "* It scales well with the number of training samples because this just makes the matrix multiplications more complex but not calculating the inverse."
   ]
  },
  {
   "cell_type": "markdown",
   "metadata": {},
   "source": [
    "## Gradient Descent"
   ]
  },
  {
   "cell_type": "markdown",
   "metadata": {
    "collapsed": true
   },
   "source": [
    "The gradient descent method follows the derivative (gradient) w.r.t. the model parameters $\\theta$ for the function MSE. In other words, it tries to minimize the error by successively calculating the gradient at the current predicted value for the MSE and adjusts the parameters until a minima is reached:\n",
    "\n",
    "\n",
    "$\\frac{\\partial}{\\partial \\theta_j} MSE(\\theta) = \n",
    "    \\frac{2}{m} \\sum\\limits_{i=1,...,m} (\\theta^T * x^{(i)} - y^{(i)}) x_j^{(i)}$\n",
    "    \n",
    "In vectorized form:\n",
    "\n",
    "$\\nabla_\\theta MSE(\\theta)\n",
    "= \n",
    "\\begin{bmatrix} \n",
    "    \\frac{\\partial}{\\partial \\theta_0} MSE(\\theta) \\\\\n",
    "    \\vdots \\\\\n",
    "    \\frac{\\partial}{\\partial \\theta_n} MSE(\\theta) \\\\\n",
    "\\end{bmatrix}\n",
    "=\n",
    "\\frac{2}{m} X^T * (X * \\theta - y)\n",
    "$"
   ]
  },
  {
   "cell_type": "markdown",
   "metadata": {},
   "source": [
    "#### Batch Gradient Descent step:\n",
    "\n",
    "$\\theta' = \\theta - learn_{rate} * \\nabla_{\\theta}MSE(\\theta)$"
   ]
  },
  {
   "cell_type": "markdown",
   "metadata": {},
   "source": [
    "#### Notes:\n",
    "* It doesnt always work, the step / learning rate can make it converge very slowly or diverge if its too large.\n",
    "* It should reach a global minima, as the MSE is a convex function, so it has a unique minima and is global.\n",
    "* Computing the derivatives this way is called Batch Gradient Descent.\n",
    "* This method scales bad with number of samples but well w.r.t. the input features."
   ]
  },
  {
   "cell_type": "code",
   "execution_count": 10,
   "metadata": {
    "collapsed": false
   },
   "outputs": [
    {
     "name": "stdout",
     "output_type": "stream",
     "text": [
      "Batch GD:  [[4.21509616]\n",
      " [2.77011339]]\n",
      "Normal equations:  [[4.21509616]\n",
      " [2.77011339]]\n"
     ]
    }
   ],
   "source": [
    "def batch_gradient_descent(X,y,theta,iters,rate):\n",
    "    for iteration in range(iters):\n",
    "        X_b = np.c_[np.ones((len(X), 1)), X]\n",
    "        gradients = 2.0/len(X) * X_b.T.dot(X_b.dot(theta) - y) \n",
    "        theta = theta - rate * gradients\n",
    "    return theta\n",
    "theta = np.random.randn(2,1) # random initialization\n",
    "print(\"Batch GD: \", batch_gradient_descent(X,y,theta,1000,0.1))\n",
    "print(\"Normal equations: \", normal_equation(X,y))"
   ]
  },
  {
   "cell_type": "markdown",
   "metadata": {},
   "source": [
    "### Stochastic GD:\n",
    "* Each iteration pick a random instance and follow the gradient w.r.t. only that instance.\n",
    "* Reduce the learning rate at each step i.e. simulated annealing."
   ]
  },
  {
   "cell_type": "code",
   "execution_count": 11,
   "metadata": {
    "collapsed": false
   },
   "outputs": [
    {
     "name": "stdout",
     "output_type": "stream",
     "text": [
      "Stochastic GD:  [[4.18475289]\n",
      " [2.73036719]]\n",
      "Normal equations:  [[4.21509616]\n",
      " [2.77011339]]\n"
     ]
    }
   ],
   "source": [
    "t0, t1 = 5.0, 50.0 # learning schedule hyperparameters\n",
    "def sto_gradient_descent(X,y,theta,iters,samples_per_iter):\n",
    "    for epoch in range(iters):\n",
    "        for i in range(samples_per_iter):\n",
    "            X_b = np.c_[np.ones((len(X), 1)), X]\n",
    "            random_index = np.random.randint(samples_per_iter)\n",
    "            xi = X_b[random_index:random_index+1]\n",
    "            yi = y[random_index:random_index+1]\n",
    "            gradients = 2 * xi.T.dot(xi.dot(theta) - yi)\n",
    "            eta = t0 / (t1 + epoch * samples_per_iter + i)\n",
    "            theta = theta - eta * gradients\n",
    "    return theta\n",
    "theta = np.random.randn(2,1) # random initialization\n",
    "print(\"Stochastic GD: \", sto_gradient_descent(X,y,theta,50,100))\n",
    "print(\"Normal equations: \", normal_equation(X,y))"
   ]
  },
  {
   "cell_type": "markdown",
   "metadata": {},
   "source": [
    "## Polynomial regression"
   ]
  },
  {
   "cell_type": "code",
   "execution_count": 12,
   "metadata": {
    "collapsed": false
   },
   "outputs": [
    {
     "data": {
      "image/png": "[encoded data removed]",
      "text/plain": [
       "<matplotlib.figure.Figure at 0x117d1cf98>"
      ]
     },
     "metadata": {},
     "output_type": "display_data"
    }
   ],
   "source": [
    "# Create polynomial sample\n",
    "np.random.seed(42)\n",
    "X = 6 * np.random.rand(100,1) - 3\n",
    "y = 0.5 * X**2 + X + 2 + np.random.randn(100,1)\n",
    "\n",
    "# Plot sample\n",
    "plt.plot(X, y, \"b.\") # add samples as dots '.'\n",
    "plt.axis([-3, 3, 0, 10]) # set bounds\n",
    "plt.xlabel('X')\n",
    "plt.ylabel('y')\n",
    "plt.show()"
   ]
  },
  {
   "cell_type": "markdown",
   "metadata": {},
   "source": [
    "### From Linear to Polynomial fitting:\n",
    "It is possible to fit polynomial models using Linear Regression. The key here is to remember that the training samples are set. Thus, we can calculate the features of higher polynomial coefficient with the existing features and then pass the augmented training set to a Linear Regression fitting procedure."
   ]
  },
  {
   "cell_type": "code",
   "execution_count": 13,
   "metadata": {
    "collapsed": false
   },
   "outputs": [
    {
     "name": "stderr",
     "output_type": "stream",
     "text": [
      "/Library/Frameworks/Python.framework/Versions/3.5/lib/python3.5/site-packages/scipy/linalg/basic.py:1018: RuntimeWarning: internal gelsd driver lwork query error, required iwork dimension not returned. This is likely the result of LAPACK bug 0038, fixed in LAPACK 3.2.2 (released July 21, 2010). Falling back to 'gelss' driver.\n",
      "  warnings.warn(mesg, RuntimeWarning)\n"
     ]
    },
    {
     "data": {
      "image/png": "[encoded data removed]",
      "text/plain": [
       "<matplotlib.figure.Figure at 0x11a2c1588>"
      ]
     },
     "metadata": {},
     "output_type": "display_data"
    }
   ],
   "source": [
    "# Create second order feature\n",
    "from sklearn.preprocessing import PolynomialFeatures\n",
    "poly_features = PolynomialFeatures(degree=2, include_bias=False)\n",
    "X_poly = poly_features.fit_transform(X)\n",
    "\n",
    "# Fit to linear model\n",
    "from sklearn.linear_model import LinearRegression\n",
    "lin_reg = LinearRegression()\n",
    "lin_reg.fit(X_poly,y)\n",
    "y_predict = lin_reg.predict(X_poly)\n",
    "\n",
    "# Plot it\n",
    "plt.plot(X, y_predict, \"r.\") # add line '-'\n",
    "plt.plot(X, y, \"b.\") # add samples as dots '.'\n",
    "plt.axis([-3, 3, 0, 10]) # set bounds\n",
    "plt.xlabel('X')\n",
    "plt.ylabel('y')\n",
    "plt.show()"
   ]
  },
  {
   "cell_type": "markdown",
   "metadata": {},
   "source": [
    "### Plotting the learning curves"
   ]
  },
  {
   "cell_type": "code",
   "execution_count": 14,
   "metadata": {
    "collapsed": false
   },
   "outputs": [],
   "source": [
    "from sklearn.metrics import mean_squared_error\n",
    "from sklearn.model_selection import train_test_split\n",
    "def plot_learning_curves(model, X, y):\n",
    "    X_train, X_val, y_train, y_val = train_test_split(X, y, test_size=0.2) \n",
    "    train_errors, val_errors = [], []\n",
    "    for m in range(1, len(X_train)):\n",
    "        model.fit(X_train[:m], y_train[:m])\n",
    "        y_train_predict = model.predict(X_train[:m])\n",
    "        y_val_predict = model.predict(X_val)\n",
    "        train_errors.append(mean_squared_error(y_train_predict, y_train[:m]))\n",
    "        val_errors.append(mean_squared_error(y_val_predict, y_val))\n",
    "    plt.plot(np.sqrt(train_errors), \"r-+\", linewidth=2, label=\"train\")\n",
    "    plt.plot(np.sqrt(val_errors), \"b-\", linewidth=3, label=\"val\")\n",
    "    plt.xlabel('training set size')\n",
    "    plt.ylabel('RMSE')\n",
    "    plt.show()"
   ]
  },
  {
   "cell_type": "code",
   "execution_count": 15,
   "metadata": {
    "collapsed": false
   },
   "outputs": [
    {
     "data": {
      "image/png": "[encoded data removed]",
      "text/plain": [
       "<matplotlib.figure.Figure at 0x11b2e1c50>"
      ]
     },
     "metadata": {},
     "output_type": "display_data"
    }
   ],
   "source": [
    "lin_reg = LinearRegression()\n",
    "plot_learning_curves(lin_reg, X, y)"
   ]
  },
  {
   "cell_type": "markdown",
   "metadata": {},
   "source": [
    "## Pipelining polynomial features and Regression"
   ]
  },
  {
   "cell_type": "code",
   "execution_count": 16,
   "metadata": {
    "collapsed": false
   },
   "outputs": [
    {
     "data": {
      "image/png": "[encoded data removed]",
      "text/plain": [
       "<matplotlib.figure.Figure at 0x11b47e828>"
      ]
     },
     "metadata": {},
     "output_type": "display_data"
    }
   ],
   "source": [
    "from sklearn.pipeline import Pipeline\n",
    "polynomial_regression = Pipeline((\n",
    "        (\"poly_features\", PolynomialFeatures(degree=10, include_bias=False)),\n",
    "        (\"sgd_reg\", LinearRegression()),\n",
    "    ))\n",
    "plot_learning_curves(polynomial_regression, X, y)"
   ]
  },
  {
   "cell_type": "markdown",
   "metadata": {},
   "source": [
    "## Regularized Linear Models"
   ]
  },
  {
   "cell_type": "markdown",
   "metadata": {},
   "source": [
    "### Ridge regression\n",
    "\n",
    "The cost function is changed to penalize parameters $\\theta$ that are very large, thus constraining the space of solutions to those with small parameter values.\n",
    "\n",
    "$J(\\theta) = MSE(\\theta) + \\alpha \\frac{1}{2}\\sum\\limits_{i=1,...,n}\\theta^2$"
   ]
  },
  {
   "cell_type": "code",
   "execution_count": 17,
   "metadata": {
    "collapsed": false
   },
   "outputs": [
    {
     "name": "stdout",
     "output_type": "stream",
     "text": [
      "[1.61761105]\n",
      "[1.27176789]\n"
     ]
    }
   ],
   "source": [
    "from sklearn.linear_model import SGDRegressor\n",
    "sgd_reg = SGDRegressor(max_iter=1000, tol=1e-3, penalty=\"l2\")\n",
    "sgd_reg.fit(X_poly, y.ravel())\n",
    "print(y[0])\n",
    "print(sgd_reg.predict([X_poly[0]]))"
   ]
  },
  {
   "cell_type": "markdown",
   "metadata": {},
   "source": [
    "### Lasso regression\n",
    "\n",
    "$J(\\theta) = MSE(\\theta) + \\alpha \\sum\\limits_{i=1,...,n}|\\theta|$"
   ]
  },
  {
   "cell_type": "code",
   "execution_count": 18,
   "metadata": {
    "collapsed": false
   },
   "outputs": [
    {
     "name": "stdout",
     "output_type": "stream",
     "text": [
      "[1.61761105]\n",
      "[1.22824848]\n"
     ]
    }
   ],
   "source": [
    "sgd_reg = SGDRegressor(max_iter=1000, tol=1e-3, penalty=\"l1\")\n",
    "sgd_reg.fit(X_poly, y.ravel())\n",
    "print(y[0])\n",
    "print(sgd_reg.predict([X_poly[0]]))"
   ]
  },
  {
   "cell_type": "markdown",
   "metadata": {},
   "source": [
    "### Elastic Net regression\n",
    "\n",
    "Given $0 \\leq r \\leq 1$ the ratio, Elastic Net combines the previous two approaches as:\n",
    "\n",
    "$J(\\theta) = MSE(\\theta) + r \\alpha \\sum\\limits_{i=1,...,n}|\\theta| + (1-r) \\alpha \\frac{1}{2}\\sum\\limits_{i=1,...,n}\\theta^2$"
   ]
  },
  {
   "cell_type": "code",
   "execution_count": 19,
   "metadata": {
    "collapsed": false
   },
   "outputs": [
    {
     "name": "stdout",
     "output_type": "stream",
     "text": [
      "[1.61761105]\n",
      "[1.19720186]\n"
     ]
    }
   ],
   "source": [
    "r = 0.5\n",
    "sgd_reg = SGDRegressor(max_iter=1000, tol=1e-3, penalty=\"elasticnet\", l1_ratio=r)\n",
    "sgd_reg.fit(X_poly, y.ravel())\n",
    "print(y[0])\n",
    "print(sgd_reg.predict([X_poly[0]]))"
   ]
  },
  {
   "cell_type": "markdown",
   "metadata": {},
   "source": [
    "## Logistic regression\n",
    "\n",
    "This model is useful for predicting the probability of sample belonging to a given class i.e. it is a binary classifier modeled via regression. Concretely, the hypothesis is based on the sigma function (which maps between 0 and 1) so that samples whose output goes over a certain threshold (say 0.5) are predicted to belong to the class."
   ]
  },
  {
   "cell_type": "markdown",
   "metadata": {
    "collapsed": true
   },
   "source": [
    "$P(y=true) = h_{\\theta}(x) = \\sigma(\\theta^T * x)$\n",
    "\n",
    "where, $\\sigma(t) = \\frac{1}{1+e^{-t}}$\n",
    "\n",
    "Then,\n",
    "\n",
    "$\\hat y = 1 \\iff P(y=true) \\geq 0.5$"
   ]
  },
  {
   "cell_type": "markdown",
   "metadata": {},
   "source": [
    "### Sigmoid function"
   ]
  },
  {
   "cell_type": "code",
   "execution_count": 31,
   "metadata": {
    "collapsed": false
   },
   "outputs": [
    {
     "data": {
      "image/png": "[encoded data removed]",
      "text/plain": [
       "<matplotlib.figure.Figure at 0x117dbffd0>"
      ]
     },
     "metadata": {},
     "output_type": "display_data"
    }
   ],
   "source": [
    "# Sigma function\n",
    "import math\n",
    "def sigma(t):\n",
    "    return 1.0 / (1.0 + math.exp(-t))\n",
    "\n",
    "# Plot a simple function 'f' between bounds [a,b]\n",
    "def plot_simple_function(f,a,b,title=''):\n",
    "    tmp_x = np.arange(a,b,(b-a)/200.0)\n",
    "    tmp_y = [f(x) for x in tmp_x]\n",
    "    plt.plot(tmp_x, tmp_y, \"b-\", linewidth=2)\n",
    "    plt.xlabel('x')\n",
    "    plt.ylabel('f(x)')\n",
    "    plt.title(title)\n",
    "    plt.show()\n",
    "\n",
    "# Plot sigma function\n",
    "plot_simple_function(sigma, -10, 10, 'Sigma')"
   ]
  },
  {
   "cell_type": "markdown",
   "metadata": {},
   "source": [
    "### Cost function"
   ]
  },
  {
   "cell_type": "markdown",
   "metadata": {},
   "source": [
    "The cost functions that we analyzed so far (MSE + regularizations) dont work for logistic regression because:\n",
    "* They dont model the loss we try to approximate in classification (positive class vs negative class).\n",
    "* The hypothesis is non-linear (sigmoid function), which makes the square error function to be non-convex.\n",
    "\n",
    "Thus, we define the logistic cost function as:\n",
    "\n",
    "$c(\\theta) = \n",
    "\\begin{cases}\n",
    "    -log(\\hat p) & \\text{if } y=1, \\\\\n",
    "    -log(1 - \\hat p) & \\text{if } y=0. \\\\\n",
    "\\end{cases}$"
   ]
  },
  {
   "cell_type": "code",
   "execution_count": 41,
   "metadata": {
    "collapsed": false
   },
   "outputs": [
    {
     "data": {
      "image/png": "[encoded data removed]",
      "text/plain": [
       "<matplotlib.figure.Figure at 0x11b2f09e8>"
      ]
     },
     "metadata": {},
     "output_type": "display_data"
    },
    {
     "data": {
      "image/png": "[encoded data removed]",
      "text/plain": [
       "<matplotlib.figure.Figure at 0x117f614a8>"
      ]
     },
     "metadata": {},
     "output_type": "display_data"
    }
   ],
   "source": [
    "def log_cost(y):\n",
    "    if y:\n",
    "        return lambda t : - math.log(t)\n",
    "    return lambda t : - math.log(1 - t)\n",
    "\n",
    "# Plot cost function (y=1)\n",
    "plot_simple_function(log_cost(1), 10.0**(-4), 1.0-10.0**(-4), 'Log cost (y=1, -log(x))')\n",
    "\n",
    "# Plot cost function (y=0)\n",
    "plot_simple_function(log_cost(0), 10.0**(-4), 1.0-10.0**(-4), 'Log cost (y=0, -log(1 - x))')"
   ]
  },
  {
   "cell_type": "markdown",
   "metadata": {},
   "source": [
    "### Generalization and derivative\n",
    "\n",
    "Generalizing to a set of samples $y^{(i)}$ with $i=1,...,m$:\n",
    "    \n",
    "$J(\\theta) = - \\frac{1}{m} \\sum\\limits_{i=1,...,m}\n",
    "y^{(i)}log(\\hat p ^{(i)}) + (1 - y^{(i)})log(1 - \\hat p ^{(i)})$\n",
    "\n",
    "Which for the sigmoid function is equivalent to:\n",
    "\n",
    "$J(\\theta) = - \\frac{1}{m} \\sum\\limits_{i=1,...,m}\n",
    "y^{(i)}log(\\sigma(\\theta^T * x^{(i)})) + (1 - y^{(i)})log(1 - \\sigma(\\theta^T * x^{(i)}))$\n",
    "\n",
    "Then the partial derivatives of the error become:\n",
    "\n",
    "$\\frac{\\partial}{\\partial \\theta_j} J(\\theta) = \n",
    "\\frac{1}{m} \\sum\\limits_{i=1,...,m}\n",
    "(\\sigma(\\theta^T * x^{(i)}) - y^{(i)})*x_j^{(i)}$"
   ]
  },
  {
   "cell_type": "markdown",
   "metadata": {},
   "source": [
    "### Example\n",
    "\n",
    "Using the Iris dataset."
   ]
  },
  {
   "cell_type": "code",
   "execution_count": 46,
   "metadata": {
    "collapsed": false
   },
   "outputs": [
    {
     "name": "stdout",
     "output_type": "stream",
     "text": [
      "Iris dataset keys:  ['target_names', 'DESCR', 'target', 'data', 'filename', 'feature_names']\n",
      "Data:  [[5.1 3.5 1.4 0.2]\n",
      " [4.9 3.  1.4 0.2]\n",
      " [4.7 3.2 1.3 0.2]\n",
      " [4.6 3.1 1.5 0.2]\n",
      " [5.  3.6 1.4 0.2]]\n",
      "Target:  [0 0 0 0 0]\n"
     ]
    }
   ],
   "source": [
    "from sklearn import datasets\n",
    "iris = datasets.load_iris()\n",
    "print(\"Iris dataset keys: \",list(iris.keys()))\n",
    "print(\"Data: \", iris[\"data\"][:5])\n",
    "print(\"Target: \", iris[\"target\"][:5])\n",
    "X = iris[\"data\"][:,3:] # only last component: petal-width\n",
    "y = (iris[\"target\"] == 2).astype(np.int) # 1 if Iris-Virginica, else 0"
   ]
  },
  {
   "cell_type": "code",
   "execution_count": 49,
   "metadata": {
    "collapsed": false
   },
   "outputs": [
    {
     "data": {
      "image/png": "[encoded data removed]",
      "text/plain": [
       "<matplotlib.figure.Figure at 0x11ba28828>"
      ]
     },
     "metadata": {},
     "output_type": "display_data"
    }
   ],
   "source": [
    "from sklearn.linear_model import LogisticRegression\n",
    "log_reg = LogisticRegression(solver='liblinear')\n",
    "log_reg.fit(X,y)\n",
    "\n",
    "# test on flowers with petal-width between 0 and 3\n",
    "X_new = np.linspace(0, 3, 1000).reshape(-1, 1)\n",
    "y_proba = log_reg.predict_proba(X_new)\n",
    "plt.plot(X_new, y_proba[:, 1], \"g-\", label=\"Iris-Virginica\") \n",
    "plt.plot(X_new, y_proba[:, 0], \"b--\", label=\"Not Iris-Virginica\")\n",
    "plt.xlabel('petal-width')\n",
    "plt.ylabel('probability')\n",
    "plt.show()"
   ]
  },
  {
   "cell_type": "markdown",
   "metadata": {},
   "source": [
    "#### Note \n",
    "* As the petal-width increases, iris-virginica flowers are more common while others become more rare, according to the predictor."
   ]
  },
  {
   "cell_type": "markdown",
   "metadata": {},
   "source": [
    "## Multiclass classification\n",
    "\n",
    "Using Softmax Regression / Multinomial Logistic Regression.\n",
    "\n",
    "Given $K$ classes, the probability for class $k$ of sample $x$ is:\n",
    "\n",
    "$\\hat p_k(x) = \\sigma(\\theta_k^T * x)_k = \n",
    "\\frac{e^{\\theta_k^T * x}}{\\sum\\limits_{j=1,...,K}e^{\\theta_k^T * x}}$\n",
    "\n",
    "And the predicted class becomes:\n",
    "\n",
    "$\\hat y = argmax_k \\ \\hat p_k(x)$"
   ]
  },
  {
   "cell_type": "markdown",
   "metadata": {},
   "source": [
    "### Example\n",
    "\n",
    "Using again the Iris dataset."
   ]
  },
  {
   "cell_type": "code",
   "execution_count": 58,
   "metadata": {
    "collapsed": false
   },
   "outputs": [
    {
     "name": "stdout",
     "output_type": "stream",
     "text": [
      "Actual class:  [2 1 0 2 1 0 2 2 1 1]\n",
      "Predct class:  [2 1 0 1 1 0 2 2 1 1]\n"
     ]
    }
   ],
   "source": [
    "X = iris[\"data\"][:, (2, 3)] # petal length, petal width \n",
    "y = iris[\"target\"]\n",
    "softmax_reg = LogisticRegression(multi_class=\"multinomial\",solver=\"lbfgs\", C=10)\n",
    "softmax_reg.fit(X, y)\n",
    "\n",
    "np.random.seed(42)\n",
    "idxs = np.random.randint(low=0, high=len(y), size=(10,))\n",
    "print(\"Actual class: \", y[idxs])\n",
    "print(\"Predct class: \", softmax_reg.predict(X[idxs]))"
   ]
  }
 ],
 "metadata": {
  "kernelspec": {
   "display_name": "Python 3",
   "language": "python",
   "name": "python3"
  },
  "language_info": {
   "codemirror_mode": {
    "name": "ipython",
    "version": 3
   },
   "file_extension": ".py",
   "mimetype": "text/x-python",
   "name": "python",
   "nbconvert_exporter": "python",
   "pygments_lexer": "ipython3",
   "version": "3.5.0"
  }
 },
 "nbformat": 4,
 "nbformat_minor": 2
}
