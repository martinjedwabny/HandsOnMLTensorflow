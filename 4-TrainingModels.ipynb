{
 "cells": [
  {
   "cell_type": "markdown",
   "metadata": {},
   "source": [
    "# Chapter 4: Training Models"
   ]
  },
  {
   "cell_type": "markdown",
   "metadata": {},
   "source": [
    "## Linear regression"
   ]
  },
  {
   "cell_type": "markdown",
   "metadata": {},
   "source": [
    "A linear regression model takes input features $x_1,...,x_n$ and predicts an output $y$ as:\n",
    "\n",
    "\\begin{align}\n",
    "y = h_{\\theta_0,...,\\theta_n}(x_1,...,x_n) = \\theta_0 + \\sum\\limits_{i=1,...,n} \\theta_i x_i\n",
    "\\end{align}\n",
    "\n",
    "where $\\theta_0,...,\\theta_n$ are the model parameters and $h$ is called the hypothesis function.\n",
    "\n",
    "In vectorized form, the equation can be expressed as:\n",
    "\n",
    "\\begin{align}\n",
    "y = h_{\\theta}(X) = \\theta^T * x\n",
    "\\end{align}\n",
    "\n",
    "where $\\theta = \\begin{bmatrix} \\theta_0 \\\\ \\theta_1 \\\\ \\vdots \\\\ \\theta_n\\end{bmatrix}$ and \n",
    "$x = \\begin{bmatrix} 1 \\\\ x_1 \\\\ \\vdots \\\\ x_n\\end{bmatrix}$."
   ]
  },
  {
   "cell_type": "markdown",
   "metadata": {},
   "source": [
    "#### Mean squared error"
   ]
  },
  {
   "cell_type": "markdown",
   "metadata": {},
   "source": [
    "Given a set of parameters $\\theta$ and $m$ samples with input $x^{(i)}$ and target values $y^{(i)}$ for $i=1,...,m$, the mean squared error (MSE) of the samples and hypothesis function is defined as:\n",
    "\n",
    "$MSE(X,h_{\\theta}) = \\frac{1}{m} \\sum\\limits_{i=1,...,m} (\\theta^T * x^{(i)} - y^{(i)})^2$"
   ]
  },
  {
   "cell_type": "markdown",
   "metadata": {},
   "source": [
    "## Normal equation"
   ]
  },
  {
   "cell_type": "markdown",
   "metadata": {},
   "source": [
    "The MSE w.r.t. the model parameters can be\n",
    "minimized by solving a single closed form matrix equation:\n",
    "    \n",
    "$\\hat{\\theta} = (X^T * X)^{-1} * X^T * y$\n",
    "\n",
    "Notice that in this case, $X$ and $y$ contain all the $m$ training samples. In other words:\n",
    "\n",
    "$X^T = \\begin{bmatrix} 1 & ... & 1 \\\\ x^{(1)}_1 & ... & x^{(m)}_1 \\\\ \\vdots & \\ddots & \\vdots \\\\ x^{(1)}_n & ... & x^{(m)}_n \\end{bmatrix}$ and \n",
    "$y = \\begin{bmatrix} y^{(1)} \\\\ \\vdots \\\\ y^{(m)}\\end{bmatrix}$"
   ]
  },
  {
   "cell_type": "code",
   "execution_count": 10,
   "metadata": {
    "collapsed": false
   },
   "outputs": [],
   "source": [
    "import numpy as np\n",
    "np.random.seed(42)\n",
    "X = 2 * np.random.rand(100, 1) # 100 samples with 1 feature\n",
    "y = 4 + 3 * X + np.random.randn(100, 1) # 100 sample targets\n",
    "\n",
    "def normal_equation(X,y):\n",
    "    X_b = np.c_[np.ones((100, 1)), X]\n",
    "    theta_best = np.linalg.inv(X_b.T.dot(X_b)).dot(X_b.T).dot(y)\n",
    "    return theta_best\n",
    "\n",
    "theta_best = normal_equation(X,y)"
   ]
  },
  {
   "cell_type": "code",
   "execution_count": 20,
   "metadata": {
    "collapsed": false
   },
   "outputs": [
    {
     "data": {
      "image/png": "[encoded data removed]",
      "text/plain": [
       "<matplotlib.figure.Figure at 0x10c920b38>"
      ]
     },
     "metadata": {},
     "output_type": "display_data"
    }
   ],
   "source": [
    "import matplotlib\n",
    "import matplotlib.pyplot as plt\n",
    "X_new = np.array([[0], [2]])\n",
    "X_new_b = np.c_[np.ones((2, 1)), X_new]\n",
    "y_predict = X_new_b.dot(theta_best)\n",
    "plt.plot(X_new, y_predict, \"r-\") # add line '-'\n",
    "plt.plot(X, y, \"b.\") # add samples as dots '.'\n",
    "plt.axis([0, 2, 0, 15]) # set bounds\n",
    "plt.show()"
   ]
  },
  {
   "cell_type": "markdown",
   "metadata": {},
   "source": [
    "#### Notes:\n",
    "* Normal equations require matrix multiplication and finding the inverse of $X^T * X$ which is almost cubic complexity depending on the implementation.\n",
    "* It scales badly with the number of features (slow for 100,000). This is because $X^T * X \\in \\mathbb{R}^{(n+1) \\times (n+1)}$ with $n$ the number of features.\n",
    "* It scales well with the number of training samples because this just makes the matrix multiplications more complex but not calculating the inverse."
   ]
  },
  {
   "cell_type": "markdown",
   "metadata": {},
   "source": [
    "## Gradient Descent"
   ]
  },
  {
   "cell_type": "code",
   "execution_count": null,
   "metadata": {
    "collapsed": true
   },
   "outputs": [],
   "source": []
  }
 ],
 "metadata": {
  "kernelspec": {
   "display_name": "Python 3",
   "language": "python",
   "name": "python3"
  },
  "language_info": {
   "codemirror_mode": {
    "name": "ipython",
    "version": 3
   },
   "file_extension": ".py",
   "mimetype": "text/x-python",
   "name": "python",
   "nbconvert_exporter": "python",
   "pygments_lexer": "ipython3",
   "version": "3.5.0"
  }
 },
 "nbformat": 4,
 "nbformat_minor": 2
}
